{
  "cells": [
    {
      "cell_type": "markdown",
      "metadata": {
        "id": "PWiscnKfXvN0"
      },
      "source": [
        "# Practical Application III: Comparing Classifiers\n",
        "\n",
        "**Overview**: In this practical application, your goal is to compare the performance of the classifiers we encountered in this section, namely K Nearest Neighbor, Logistic Regression, Decision Trees, and Support Vector Machines.  We will utilize a dataset related to marketing bank products over the telephone.  \n",
        "\n"
      ]
    },
    {
      "cell_type": "markdown",
      "metadata": {
        "id": "OlCLr9FIXvN5"
      },
      "source": [
        "### Getting Started\n",
        "\n",
        "Our dataset comes from the UCI Machine Learning repository [link](https://archive.ics.uci.edu/ml/datasets/bank+marketing).  The data is from a Portugese banking institution and is a collection of the results of multiple marketing campaigns.  We will make use of the article accompanying the dataset [here](CRISP-DM-BANK.pdf) for more information on the data and features.\n",
        "\n"
      ]
    },
    {
      "cell_type": "markdown",
      "metadata": {
        "id": "dSokacFwXvN7"
      },
      "source": [
        "### Problem 1: Understanding the Data\n",
        "\n",
        "To gain a better understanding of the data, please read the information provided in the UCI link above, and examine the **Materials and Methods** section of the paper.  How many marketing campaigns does this data represent?"
      ]
    },
    {
      "cell_type": "code",
      "execution_count": 13,
      "metadata": {
        "id": "OYzfQ4snXvN8"
      },
      "outputs": [],
      "source": [
        ""
      ]
    },
    {
      "cell_type": "markdown",
      "metadata": {
        "id": "3w_2r6LlXvN9"
      },
      "source": [
        "### Problem 2: Read in the Data\n",
        "\n",
        "Use pandas to read in the dataset `bank-additional-full.csv` and assign to a meaningful variable name."
      ]
    },
    {
      "cell_type": "code",
      "execution_count": 14,
      "metadata": {
        "id": "AZSHiyTEXvN9"
      },
      "outputs": [],
      "source": [
        "import pandas as pd\n",
        "import numpy as np\n",
        "import matplotlib.pyplot as plt\n",
        "\n",
        "from sklearn.linear_model import LinearRegression, LogisticRegression\n",
        "from sklearn.pipeline import Pipeline\n",
        "from sklearn.preprocessing import PolynomialFeatures, OneHotEncoder, OrdinalEncoder\n",
        "from sklearn.metrics import mean_squared_error\n",
        "from sklearn.model_selection import GridSearchCV, cross_val_score\n",
        "from sklearn.model_selection import train_test_split\n",
        "from sklearn.compose import make_column_transformer, make_column_selector\n",
        "from sklearn.inspection import permutation_importance\n",
        "from sklearn.metrics import accuracy_score, recall_score, precision_score, confusion_matrix, plot_confusion_matrix\n",
        "from sklearn.tree import DecisionTreeClassifier, export_text, plot_tree\n",
        "from sklearn.neighbors import KNeighborsClassifier\n",
        "from sklearn.svm import SVC\n",
        "from sklearn.feature_selection import SequentialFeatureSelector\n",
        "from sklearn.feature_extraction.text import TfidfVectorizer\n",
        "\n",
        "import operator\n",
        "from sklearn import set_config\n",
        "import seaborn as sns\n",
        "import re\n",
        "import time\n",
        "import warnings\n",
        "warnings.filterwarnings('ignore')"
      ]
    },
    {
      "cell_type": "code",
      "execution_count": 15,
      "metadata": {
        "id": "YP8eUdURXvN_"
      },
      "outputs": [],
      "source": [
        "df = pd.read_csv('/content/sample_data/bank-additional-full.csv', sep = ';')\n"
      ]
    },
    {
      "cell_type": "code",
      "execution_count": 16,
      "metadata": {
        "id": "kyNcrvZzXvOA",
        "outputId": "4c0e8bb9-72bd-4659-f69b-2f1bace657bd",
        "colab": {
          "base_uri": "https://localhost:8080/",
          "height": 300
        }
      },
      "outputs": [
        {
          "output_type": "execute_result",
          "data": {
            "text/plain": [
              "   age        job  marital    education  default housing loan    contact  \\\n",
              "0   56  housemaid  married     basic.4y       no      no   no  telephone   \n",
              "1   57   services  married  high.school  unknown      no   no  telephone   \n",
              "2   37   services  married  high.school       no     yes   no  telephone   \n",
              "3   40     admin.  married     basic.6y       no      no   no  telephone   \n",
              "4   56   services  married  high.school       no      no  yes  telephone   \n",
              "\n",
              "  month day_of_week  ...  campaign  pdays  previous     poutcome emp.var.rate  \\\n",
              "0   may         mon  ...         1    999         0  nonexistent          1.1   \n",
              "1   may         mon  ...         1    999         0  nonexistent          1.1   \n",
              "2   may         mon  ...         1    999         0  nonexistent          1.1   \n",
              "3   may         mon  ...         1    999         0  nonexistent          1.1   \n",
              "4   may         mon  ...         1    999         0  nonexistent          1.1   \n",
              "\n",
              "   cons.price.idx  cons.conf.idx  euribor3m  nr.employed   y  \n",
              "0          93.994          -36.4      4.857       5191.0  no  \n",
              "1          93.994          -36.4      4.857       5191.0  no  \n",
              "2          93.994          -36.4      4.857       5191.0  no  \n",
              "3          93.994          -36.4      4.857       5191.0  no  \n",
              "4          93.994          -36.4      4.857       5191.0  no  \n",
              "\n",
              "[5 rows x 21 columns]"
            ],
            "text/html": [
              "\n",
              "  <div id=\"df-fc242ddb-b6d1-4e75-9b4c-eec0cae8af74\">\n",
              "    <div class=\"colab-df-container\">\n",
              "      <div>\n",
              "<style scoped>\n",
              "    .dataframe tbody tr th:only-of-type {\n",
              "        vertical-align: middle;\n",
              "    }\n",
              "\n",
              "    .dataframe tbody tr th {\n",
              "        vertical-align: top;\n",
              "    }\n",
              "\n",
              "    .dataframe thead th {\n",
              "        text-align: right;\n",
              "    }\n",
              "</style>\n",
              "<table border=\"1\" class=\"dataframe\">\n",
              "  <thead>\n",
              "    <tr style=\"text-align: right;\">\n",
              "      <th></th>\n",
              "      <th>age</th>\n",
              "      <th>job</th>\n",
              "      <th>marital</th>\n",
              "      <th>education</th>\n",
              "      <th>default</th>\n",
              "      <th>housing</th>\n",
              "      <th>loan</th>\n",
              "      <th>contact</th>\n",
              "      <th>month</th>\n",
              "      <th>day_of_week</th>\n",
              "      <th>...</th>\n",
              "      <th>campaign</th>\n",
              "      <th>pdays</th>\n",
              "      <th>previous</th>\n",
              "      <th>poutcome</th>\n",
              "      <th>emp.var.rate</th>\n",
              "      <th>cons.price.idx</th>\n",
              "      <th>cons.conf.idx</th>\n",
              "      <th>euribor3m</th>\n",
              "      <th>nr.employed</th>\n",
              "      <th>y</th>\n",
              "    </tr>\n",
              "  </thead>\n",
              "  <tbody>\n",
              "    <tr>\n",
              "      <th>0</th>\n",
              "      <td>56</td>\n",
              "      <td>housemaid</td>\n",
              "      <td>married</td>\n",
              "      <td>basic.4y</td>\n",
              "      <td>no</td>\n",
              "      <td>no</td>\n",
              "      <td>no</td>\n",
              "      <td>telephone</td>\n",
              "      <td>may</td>\n",
              "      <td>mon</td>\n",
              "      <td>...</td>\n",
              "      <td>1</td>\n",
              "      <td>999</td>\n",
              "      <td>0</td>\n",
              "      <td>nonexistent</td>\n",
              "      <td>1.1</td>\n",
              "      <td>93.994</td>\n",
              "      <td>-36.4</td>\n",
              "      <td>4.857</td>\n",
              "      <td>5191.0</td>\n",
              "      <td>no</td>\n",
              "    </tr>\n",
              "    <tr>\n",
              "      <th>1</th>\n",
              "      <td>57</td>\n",
              "      <td>services</td>\n",
              "      <td>married</td>\n",
              "      <td>high.school</td>\n",
              "      <td>unknown</td>\n",
              "      <td>no</td>\n",
              "      <td>no</td>\n",
              "      <td>telephone</td>\n",
              "      <td>may</td>\n",
              "      <td>mon</td>\n",
              "      <td>...</td>\n",
              "      <td>1</td>\n",
              "      <td>999</td>\n",
              "      <td>0</td>\n",
              "      <td>nonexistent</td>\n",
              "      <td>1.1</td>\n",
              "      <td>93.994</td>\n",
              "      <td>-36.4</td>\n",
              "      <td>4.857</td>\n",
              "      <td>5191.0</td>\n",
              "      <td>no</td>\n",
              "    </tr>\n",
              "    <tr>\n",
              "      <th>2</th>\n",
              "      <td>37</td>\n",
              "      <td>services</td>\n",
              "      <td>married</td>\n",
              "      <td>high.school</td>\n",
              "      <td>no</td>\n",
              "      <td>yes</td>\n",
              "      <td>no</td>\n",
              "      <td>telephone</td>\n",
              "      <td>may</td>\n",
              "      <td>mon</td>\n",
              "      <td>...</td>\n",
              "      <td>1</td>\n",
              "      <td>999</td>\n",
              "      <td>0</td>\n",
              "      <td>nonexistent</td>\n",
              "      <td>1.1</td>\n",
              "      <td>93.994</td>\n",
              "      <td>-36.4</td>\n",
              "      <td>4.857</td>\n",
              "      <td>5191.0</td>\n",
              "      <td>no</td>\n",
              "    </tr>\n",
              "    <tr>\n",
              "      <th>3</th>\n",
              "      <td>40</td>\n",
              "      <td>admin.</td>\n",
              "      <td>married</td>\n",
              "      <td>basic.6y</td>\n",
              "      <td>no</td>\n",
              "      <td>no</td>\n",
              "      <td>no</td>\n",
              "      <td>telephone</td>\n",
              "      <td>may</td>\n",
              "      <td>mon</td>\n",
              "      <td>...</td>\n",
              "      <td>1</td>\n",
              "      <td>999</td>\n",
              "      <td>0</td>\n",
              "      <td>nonexistent</td>\n",
              "      <td>1.1</td>\n",
              "      <td>93.994</td>\n",
              "      <td>-36.4</td>\n",
              "      <td>4.857</td>\n",
              "      <td>5191.0</td>\n",
              "      <td>no</td>\n",
              "    </tr>\n",
              "    <tr>\n",
              "      <th>4</th>\n",
              "      <td>56</td>\n",
              "      <td>services</td>\n",
              "      <td>married</td>\n",
              "      <td>high.school</td>\n",
              "      <td>no</td>\n",
              "      <td>no</td>\n",
              "      <td>yes</td>\n",
              "      <td>telephone</td>\n",
              "      <td>may</td>\n",
              "      <td>mon</td>\n",
              "      <td>...</td>\n",
              "      <td>1</td>\n",
              "      <td>999</td>\n",
              "      <td>0</td>\n",
              "      <td>nonexistent</td>\n",
              "      <td>1.1</td>\n",
              "      <td>93.994</td>\n",
              "      <td>-36.4</td>\n",
              "      <td>4.857</td>\n",
              "      <td>5191.0</td>\n",
              "      <td>no</td>\n",
              "    </tr>\n",
              "  </tbody>\n",
              "</table>\n",
              "<p>5 rows × 21 columns</p>\n",
              "</div>\n",
              "      <button class=\"colab-df-convert\" onclick=\"convertToInteractive('df-fc242ddb-b6d1-4e75-9b4c-eec0cae8af74')\"\n",
              "              title=\"Convert this dataframe to an interactive table.\"\n",
              "              style=\"display:none;\">\n",
              "        \n",
              "  <svg xmlns=\"http://www.w3.org/2000/svg\" height=\"24px\"viewBox=\"0 0 24 24\"\n",
              "       width=\"24px\">\n",
              "    <path d=\"M0 0h24v24H0V0z\" fill=\"none\"/>\n",
              "    <path d=\"M18.56 5.44l.94 2.06.94-2.06 2.06-.94-2.06-.94-.94-2.06-.94 2.06-2.06.94zm-11 1L8.5 8.5l.94-2.06 2.06-.94-2.06-.94L8.5 2.5l-.94 2.06-2.06.94zm10 10l.94 2.06.94-2.06 2.06-.94-2.06-.94-.94-2.06-.94 2.06-2.06.94z\"/><path d=\"M17.41 7.96l-1.37-1.37c-.4-.4-.92-.59-1.43-.59-.52 0-1.04.2-1.43.59L10.3 9.45l-7.72 7.72c-.78.78-.78 2.05 0 2.83L4 21.41c.39.39.9.59 1.41.59.51 0 1.02-.2 1.41-.59l7.78-7.78 2.81-2.81c.8-.78.8-2.07 0-2.86zM5.41 20L4 18.59l7.72-7.72 1.47 1.35L5.41 20z\"/>\n",
              "  </svg>\n",
              "      </button>\n",
              "      \n",
              "  <style>\n",
              "    .colab-df-container {\n",
              "      display:flex;\n",
              "      flex-wrap:wrap;\n",
              "      gap: 12px;\n",
              "    }\n",
              "\n",
              "    .colab-df-convert {\n",
              "      background-color: #E8F0FE;\n",
              "      border: none;\n",
              "      border-radius: 50%;\n",
              "      cursor: pointer;\n",
              "      display: none;\n",
              "      fill: #1967D2;\n",
              "      height: 32px;\n",
              "      padding: 0 0 0 0;\n",
              "      width: 32px;\n",
              "    }\n",
              "\n",
              "    .colab-df-convert:hover {\n",
              "      background-color: #E2EBFA;\n",
              "      box-shadow: 0px 1px 2px rgba(60, 64, 67, 0.3), 0px 1px 3px 1px rgba(60, 64, 67, 0.15);\n",
              "      fill: #174EA6;\n",
              "    }\n",
              "\n",
              "    [theme=dark] .colab-df-convert {\n",
              "      background-color: #3B4455;\n",
              "      fill: #D2E3FC;\n",
              "    }\n",
              "\n",
              "    [theme=dark] .colab-df-convert:hover {\n",
              "      background-color: #434B5C;\n",
              "      box-shadow: 0px 1px 3px 1px rgba(0, 0, 0, 0.15);\n",
              "      filter: drop-shadow(0px 1px 2px rgba(0, 0, 0, 0.3));\n",
              "      fill: #FFFFFF;\n",
              "    }\n",
              "  </style>\n",
              "\n",
              "      <script>\n",
              "        const buttonEl =\n",
              "          document.querySelector('#df-fc242ddb-b6d1-4e75-9b4c-eec0cae8af74 button.colab-df-convert');\n",
              "        buttonEl.style.display =\n",
              "          google.colab.kernel.accessAllowed ? 'block' : 'none';\n",
              "\n",
              "        async function convertToInteractive(key) {\n",
              "          const element = document.querySelector('#df-fc242ddb-b6d1-4e75-9b4c-eec0cae8af74');\n",
              "          const dataTable =\n",
              "            await google.colab.kernel.invokeFunction('convertToInteractive',\n",
              "                                                     [key], {});\n",
              "          if (!dataTable) return;\n",
              "\n",
              "          const docLinkHtml = 'Like what you see? Visit the ' +\n",
              "            '<a target=\"_blank\" href=https://colab.research.google.com/notebooks/data_table.ipynb>data table notebook</a>'\n",
              "            + ' to learn more about interactive tables.';\n",
              "          element.innerHTML = '';\n",
              "          dataTable['output_type'] = 'display_data';\n",
              "          await google.colab.output.renderOutput(dataTable, element);\n",
              "          const docLink = document.createElement('div');\n",
              "          docLink.innerHTML = docLinkHtml;\n",
              "          element.appendChild(docLink);\n",
              "        }\n",
              "      </script>\n",
              "    </div>\n",
              "  </div>\n",
              "  "
            ]
          },
          "metadata": {},
          "execution_count": 16
        }
      ],
      "source": [
        "df.head()"
      ]
    },
    {
      "cell_type": "code",
      "execution_count": 17,
      "metadata": {
        "id": "WH94M8-MXvOB"
      },
      "outputs": [],
      "source": [
        "df.drop(columns=['duration'],inplace = True)"
      ]
    },
    {
      "cell_type": "markdown",
      "metadata": {
        "id": "5Nkisml0XvOB"
      },
      "source": [
        "### Problem 3: Understanding the Features\n",
        "\n",
        "\n",
        "Examine the data description below, and determine if any of the features are missing values or need to be coerced to a different data type.\n",
        "\n",
        "\n",
        "```\n",
        "Input variables:\n",
        "# bank client data:\n",
        "1 - age (numeric)\n",
        "2 - job : type of job (categorical: 'admin.','blue-collar','entrepreneur','housemaid','management','retired','self-employed','services','student','technician','unemployed','unknown')\n",
        "3 - marital : marital status (categorical: 'divorced','married','single','unknown'; note: 'divorced' means divorced or widowed)\n",
        "4 - education (categorical: 'basic.4y','basic.6y','basic.9y','high.school','illiterate','professional.course','university.degree','unknown')\n",
        "5 - default: has credit in default? (categorical: 'no','yes','unknown')\n",
        "6 - housing: has housing loan? (categorical: 'no','yes','unknown')\n",
        "7 - loan: has personal loan? (categorical: 'no','yes','unknown')\n",
        "# related with the last contact of the current campaign:\n",
        "8 - contact: contact communication type (categorical: 'cellular','telephone')\n",
        "9 - month: last contact month of year (categorical: 'jan', 'feb', 'mar', ..., 'nov', 'dec')\n",
        "10 - day_of_week: last contact day of the week (categorical: 'mon','tue','wed','thu','fri')\n",
        "11 - duration: last contact duration, in seconds (numeric). Important note: this attribute highly affects the output target (e.g., if duration=0 then y='no'). Yet, the duration is not known before a call is performed. Also, after the end of the call y is obviously known. Thus, this input should only be included for benchmark purposes and should be discarded if the intention is to have a realistic predictive model.\n",
        "# other attributes:\n",
        "12 - campaign: number of contacts performed during this campaign and for this client (numeric, includes last contact)\n",
        "13 - pdays: number of days that passed by after the client was last contacted from a previous campaign (numeric; 999 means client was not previously contacted)\n",
        "14 - previous: number of contacts performed before this campaign and for this client (numeric)\n",
        "15 - poutcome: outcome of the previous marketing campaign (categorical: 'failure','nonexistent','success')\n",
        "# social and economic context attributes\n",
        "16 - emp.var.rate: employment variation rate - quarterly indicator (numeric)\n",
        "17 - cons.price.idx: consumer price index - monthly indicator (numeric)\n",
        "18 - cons.conf.idx: consumer confidence index - monthly indicator (numeric)\n",
        "19 - euribor3m: euribor 3 month rate - daily indicator (numeric)\n",
        "20 - nr.employed: number of employees - quarterly indicator (numeric)\n",
        "\n",
        "Output variable (desired target):\n",
        "21 - y - has the client subscribed a term deposit? (binary: 'yes','no')\n",
        "```\n",
        "\n"
      ]
    },
    {
      "cell_type": "markdown",
      "metadata": {
        "id": "jUVyciFIXvOC"
      },
      "source": [
        "Value counts for each feature 1.Analyse how the data is distributed 2.How many unknowns"
      ]
    },
    {
      "cell_type": "code",
      "execution_count": 18,
      "metadata": {
        "id": "rb-qosCoXvOD",
        "outputId": "e22b4053-ff73-4edf-8c52-5ca3cd45e75d",
        "colab": {
          "base_uri": "https://localhost:8080/"
        }
      },
      "outputs": [
        {
          "output_type": "stream",
          "name": "stdout",
          "text": [
            "*********************************************************\n",
            "---------------------------\n",
            "age\n",
            "---------------------------\n",
            "31    1947\n",
            "32    1846\n",
            "33    1833\n",
            "36    1780\n",
            "35    1759\n",
            "      ... \n",
            "89       2\n",
            "91       2\n",
            "94       1\n",
            "87       1\n",
            "95       1\n",
            "Name: age, Length: 78, dtype: int64\n",
            "*********************************************************\n",
            "---------------------------\n",
            "job\n",
            "---------------------------\n",
            "admin.           10422\n",
            "blue-collar       9254\n",
            "technician        6743\n",
            "services          3969\n",
            "management        2924\n",
            "retired           1720\n",
            "entrepreneur      1456\n",
            "self-employed     1421\n",
            "housemaid         1060\n",
            "unemployed        1014\n",
            "student            875\n",
            "unknown            330\n",
            "Name: job, dtype: int64\n",
            "*********************************************************\n",
            "---------------------------\n",
            "marital\n",
            "---------------------------\n",
            "married     24928\n",
            "single      11568\n",
            "divorced     4612\n",
            "unknown        80\n",
            "Name: marital, dtype: int64\n",
            "*********************************************************\n",
            "---------------------------\n",
            "education\n",
            "---------------------------\n",
            "university.degree      12168\n",
            "high.school             9515\n",
            "basic.9y                6045\n",
            "professional.course     5243\n",
            "basic.4y                4176\n",
            "basic.6y                2292\n",
            "unknown                 1731\n",
            "illiterate                18\n",
            "Name: education, dtype: int64\n",
            "*********************************************************\n",
            "---------------------------\n",
            "default\n",
            "---------------------------\n",
            "no         32588\n",
            "unknown     8597\n",
            "yes            3\n",
            "Name: default, dtype: int64\n",
            "*********************************************************\n",
            "---------------------------\n",
            "housing\n",
            "---------------------------\n",
            "yes        21576\n",
            "no         18622\n",
            "unknown      990\n",
            "Name: housing, dtype: int64\n",
            "*********************************************************\n",
            "---------------------------\n",
            "loan\n",
            "---------------------------\n",
            "no         33950\n",
            "yes         6248\n",
            "unknown      990\n",
            "Name: loan, dtype: int64\n",
            "*********************************************************\n",
            "---------------------------\n",
            "contact\n",
            "---------------------------\n",
            "cellular     26144\n",
            "telephone    15044\n",
            "Name: contact, dtype: int64\n",
            "*********************************************************\n",
            "---------------------------\n",
            "month\n",
            "---------------------------\n",
            "may    13769\n",
            "jul     7174\n",
            "aug     6178\n",
            "jun     5318\n",
            "nov     4101\n",
            "apr     2632\n",
            "oct      718\n",
            "sep      570\n",
            "mar      546\n",
            "dec      182\n",
            "Name: month, dtype: int64\n",
            "*********************************************************\n",
            "---------------------------\n",
            "day_of_week\n",
            "---------------------------\n",
            "thu    8623\n",
            "mon    8514\n",
            "wed    8134\n",
            "tue    8090\n",
            "fri    7827\n",
            "Name: day_of_week, dtype: int64\n",
            "*********************************************************\n",
            "---------------------------\n",
            "campaign\n",
            "---------------------------\n",
            "1     17642\n",
            "2     10570\n",
            "3      5341\n",
            "4      2651\n",
            "5      1599\n",
            "6       979\n",
            "7       629\n",
            "8       400\n",
            "9       283\n",
            "10      225\n",
            "11      177\n",
            "12      125\n",
            "13       92\n",
            "14       69\n",
            "17       58\n",
            "16       51\n",
            "15       51\n",
            "18       33\n",
            "20       30\n",
            "19       26\n",
            "21       24\n",
            "22       17\n",
            "23       16\n",
            "24       15\n",
            "27       11\n",
            "29       10\n",
            "28        8\n",
            "26        8\n",
            "25        8\n",
            "31        7\n",
            "30        7\n",
            "35        5\n",
            "32        4\n",
            "33        4\n",
            "34        3\n",
            "42        2\n",
            "40        2\n",
            "43        2\n",
            "56        1\n",
            "39        1\n",
            "41        1\n",
            "37        1\n",
            "Name: campaign, dtype: int64\n",
            "*********************************************************\n",
            "---------------------------\n",
            "pdays\n",
            "---------------------------\n",
            "999    39673\n",
            "3        439\n",
            "6        412\n",
            "4        118\n",
            "9         64\n",
            "2         61\n",
            "7         60\n",
            "12        58\n",
            "10        52\n",
            "5         46\n",
            "13        36\n",
            "11        28\n",
            "1         26\n",
            "15        24\n",
            "14        20\n",
            "8         18\n",
            "0         15\n",
            "16        11\n",
            "17         8\n",
            "18         7\n",
            "22         3\n",
            "19         3\n",
            "21         2\n",
            "25         1\n",
            "26         1\n",
            "27         1\n",
            "20         1\n",
            "Name: pdays, dtype: int64\n",
            "*********************************************************\n",
            "---------------------------\n",
            "previous\n",
            "---------------------------\n",
            "0    35563\n",
            "1     4561\n",
            "2      754\n",
            "3      216\n",
            "4       70\n",
            "5       18\n",
            "6        5\n",
            "7        1\n",
            "Name: previous, dtype: int64\n",
            "*********************************************************\n",
            "---------------------------\n",
            "poutcome\n",
            "---------------------------\n",
            "nonexistent    35563\n",
            "failure         4252\n",
            "success         1373\n",
            "Name: poutcome, dtype: int64\n",
            "*********************************************************\n",
            "---------------------------\n",
            "emp.var.rate\n",
            "---------------------------\n",
            " 1.4    16234\n",
            "-1.8     9184\n",
            " 1.1     7763\n",
            "-0.1     3683\n",
            "-2.9     1663\n",
            "-3.4     1071\n",
            "-1.7      773\n",
            "-1.1      635\n",
            "-3.0      172\n",
            "-0.2       10\n",
            "Name: emp.var.rate, dtype: int64\n",
            "*********************************************************\n",
            "---------------------------\n",
            "cons.price.idx\n",
            "---------------------------\n",
            "93.994    7763\n",
            "93.918    6685\n",
            "92.893    5794\n",
            "93.444    5175\n",
            "94.465    4374\n",
            "93.200    3616\n",
            "93.075    2458\n",
            "92.201     770\n",
            "92.963     715\n",
            "92.431     447\n",
            "92.649     357\n",
            "94.215     311\n",
            "94.199     303\n",
            "92.843     282\n",
            "92.379     267\n",
            "93.369     264\n",
            "94.027     233\n",
            "94.055     229\n",
            "93.876     212\n",
            "94.601     204\n",
            "92.469     178\n",
            "93.749     174\n",
            "92.713     172\n",
            "94.767     128\n",
            "93.798      67\n",
            "92.756      10\n",
            "Name: cons.price.idx, dtype: int64\n",
            "*********************************************************\n",
            "---------------------------\n",
            "cons.conf.idx\n",
            "---------------------------\n",
            "-36.4    7763\n",
            "-42.7    6685\n",
            "-46.2    5794\n",
            "-36.1    5175\n",
            "-41.8    4374\n",
            "-42.0    3616\n",
            "-47.1    2458\n",
            "-31.4     770\n",
            "-40.8     715\n",
            "-26.9     447\n",
            "-30.1     357\n",
            "-40.3     311\n",
            "-37.5     303\n",
            "-50.0     282\n",
            "-29.8     267\n",
            "-34.8     264\n",
            "-38.3     233\n",
            "-39.8     229\n",
            "-40.0     212\n",
            "-49.5     204\n",
            "-33.6     178\n",
            "-34.6     174\n",
            "-33.0     172\n",
            "-50.8     128\n",
            "-40.4      67\n",
            "-45.9      10\n",
            "Name: cons.conf.idx, dtype: int64\n",
            "*********************************************************\n",
            "---------------------------\n",
            "euribor3m\n",
            "---------------------------\n",
            "4.857    2868\n",
            "4.962    2613\n",
            "4.963    2487\n",
            "4.961    1902\n",
            "4.856    1210\n",
            "         ... \n",
            "3.853       1\n",
            "3.901       1\n",
            "0.969       1\n",
            "0.956       1\n",
            "3.669       1\n",
            "Name: euribor3m, Length: 316, dtype: int64\n",
            "*********************************************************\n",
            "---------------------------\n",
            "nr.employed\n",
            "---------------------------\n",
            "5228.1    16234\n",
            "5099.1     8534\n",
            "5191.0     7763\n",
            "5195.8     3683\n",
            "5076.2     1663\n",
            "5017.5     1071\n",
            "4991.6      773\n",
            "5008.7      650\n",
            "4963.6      635\n",
            "5023.5      172\n",
            "5176.3       10\n",
            "Name: nr.employed, dtype: int64\n",
            "*********************************************************\n",
            "---------------------------\n",
            "y\n",
            "---------------------------\n",
            "no     36548\n",
            "yes     4640\n",
            "Name: y, dtype: int64\n"
          ]
        }
      ],
      "source": [
        "for var in df:\n",
        "    print('*********************************************************')\n",
        "    print('---------------------------')\n",
        "    print(var)\n",
        "    print('---------------------------')\n",
        "    print(df[var].value_counts())"
      ]
    },
    {
      "cell_type": "markdown",
      "metadata": {
        "id": "TcmnRX8XXvOD"
      },
      "source": [
        "Adding age_range feature for initial analysis"
      ]
    },
    {
      "cell_type": "code",
      "execution_count": 19,
      "metadata": {
        "id": "6SdXe3anXvOE"
      },
      "outputs": [],
      "source": [
        "df['age'].value_counts().tail(20)\n",
        "\n",
        "bins = [15, 20, 25, 30, 35, 40, 45, 50, 55, 60, 65, 70, 75, 100]\n",
        "groups = ['Below 20', '20-25', '25-30', '30-35', '35-40', '40-45', '45-50', '50-55', '55-60', '60-65', '65-70', '70-75', '75+']\n",
        "\n",
        "df['age_range'] = pd.cut(df['age'],bins,labels = groups)"
      ]
    },
    {
      "cell_type": "markdown",
      "metadata": {
        "id": "Q-1bqD83XvOE"
      },
      "source": [
        "Plot all the features to the target feature"
      ]
    },
    {
      "cell_type": "code",
      "execution_count": 20,
      "metadata": {
        "scrolled": false,
        "id": "v-P1nppbXvOE",
        "outputId": "23d78e4b-a185-4334-8ce2-59577696bcb7",
        "colab": {
          "base_uri": "https://localhost:8080/",
          "height": 1000
        }
      },
      "outputs": [
        {
          "output_type": "display_data",
          "data": {
            "text/plain": [
              "<Figure size 720x288 with 0 Axes>"
            ]
          },
          "metadata": {}
        },
        {
          "output_type": "display_data",
          "data": {
            "text/plain": [
              "<Figure size 1080x360 with 1 Axes>"
            ],
            "image/png": "[encoded data removed]"
          },
          "metadata": {
            "needs_background": "light"
          }
        },
        {
          "output_type": "display_data",
          "data": {
            "text/plain": [
              "<Figure size 720x288 with 0 Axes>"
            ]
          },
          "metadata": {}
        },
        {
          "output_type": "display_data",
          "data": {
            "text/plain": [
              "<Figure size 1080x360 with 1 Axes>"
            ],
            "image/png": "[encoded data removed]"
          },
          "metadata": {
            "needs_background": "light"
          }
        },
        {
          "output_type": "display_data",
          "data": {
            "text/plain": [
              "<Figure size 720x288 with 0 Axes>"
            ]
          },
          "metadata": {}
        },
        {
          "output_type": "display_data",
          "data": {
            "text/plain": [
              "<Figure size 1080x360 with 1 Axes>"
            ],
            "image/png": "[encoded data removed]"
          },
          "metadata": {
            "needs_background": "light"
          }
        },
        {
          "output_type": "display_data",
          "data": {
            "text/plain": [
              "<Figure size 720x288 with 0 Axes>"
            ]
          },
          "metadata": {}
        },
        {
          "output_type": "display_data",
          "data": {
            "text/plain": [
              "<Figure size 1080x360 with 1 Axes>"
            ],
            "image/png": "[encoded data removed]"
          },
          "metadata": {
            "needs_background": "light"
          }
        },
        {
          "output_type": "display_data",
          "data": {
            "text/plain": [
              "<Figure size 720x288 with 0 Axes>"
            ]
          },
          "metadata": {}
        },
        {
          "output_type": "display_data",
          "data": {
            "text/plain": [
              "<Figure size 1080x360 with 1 Axes>"
            ],
            "image/png": "[encoded data removed]"
          },
          "metadata": {
            "needs_background": "light"
          }
        },
        {
          "output_type": "display_data",
          "data": {
            "text/plain": [
              "<Figure size 720x288 with 0 Axes>"
            ]
          },
          "metadata": {}
        },
        {
          "output_type": "display_data",
          "data": {
            "text/plain": [
              "<Figure size 1080x360 with 1 Axes>"
            ],
            "image/png": "[encoded data removed]"
          },
          "metadata": {
            "needs_background": "light"
          }
        },
        {
          "output_type": "display_data",
          "data": {
            "text/plain": [
              "<Figure size 720x288 with 0 Axes>"
            ]
          },
          "metadata": {}
        },
        {
          "output_type": "display_data",
          "data": {
            "text/plain": [
              "<Figure size 1080x360 with 1 Axes>"
            ],
            "image/png": "[encoded data removed]"
          },
          "metadata": {
            "needs_background": "light"
          }
        },
        {
          "output_type": "display_data",
          "data": {
            "text/plain": [
              "<Figure size 720x288 with 0 Axes>"
            ]
          },
          "metadata": {}
        },
        {
          "output_type": "display_data",
          "data": {
            "text/plain": [
              "<Figure size 1080x360 with 1 Axes>"
            ],
            "image/png": "[encoded data removed]"
          },
          "metadata": {
            "needs_background": "light"
          }
        },
        {
          "output_type": "display_data",
          "data": {
            "text/plain": [
              "<Figure size 720x288 with 0 Axes>"
            ]
          },
          "metadata": {}
        },
        {
          "output_type": "display_data",
          "data": {
            "text/plain": [
              "<Figure size 1080x360 with 1 Axes>"
            ],
            "image/png": "[encoded data removed]"
          },
          "metadata": {
            "needs_background": "light"
          }
        },
        {
          "output_type": "display_data",
          "data": {
            "text/plain": [
              "<Figure size 720x288 with 0 Axes>"
            ]
          },
          "metadata": {}
        },
        {
          "output_type": "display_data",
          "data": {
            "text/plain": [
              "<Figure size 1080x360 with 1 Axes>"
            ],
            "image/png": "[encoded data removed]"
          },
          "metadata": {
            "needs_background": "light"
          }
        },
        {
          "output_type": "display_data",
          "data": {
            "text/plain": [
              "<Figure size 720x288 with 0 Axes>"
            ]
          },
          "metadata": {}
        },
        {
          "output_type": "display_data",
          "data": {
            "text/plain": [
              "<Figure size 1080x360 with 1 Axes>"
            ],
            "image/png": "[encoded data removed]"
          },
          "metadata": {
            "needs_background": "light"
          }
        },
        {
          "output_type": "display_data",
          "data": {
            "text/plain": [
              "<Figure size 720x288 with 0 Axes>"
            ]
          },
          "metadata": {}
        },
        {
          "output_type": "display_data",
          "data": {
            "text/plain": [
              "<Figure size 1080x360 with 1 Axes>"
            ],
            "image/png": "[encoded data removed]"
          },
          "metadata": {
            "needs_background": "light"
          }
        },
        {
          "output_type": "display_data",
          "data": {
            "text/plain": [
              "<Figure size 720x288 with 0 Axes>"
            ]
          },
          "metadata": {}
        },
        {
          "output_type": "display_data",
          "data": {
            "text/plain": [
              "<Figure size 1080x360 with 1 Axes>"
            ],
            "image/png": "[encoded data removed]"
          },
          "metadata": {
            "needs_background": "light"
          }
        },
        {
          "output_type": "display_data",
          "data": {
            "text/plain": [
              "<Figure size 720x288 with 0 Axes>"
            ]
          },
          "metadata": {}
        },
        {
          "output_type": "display_data",
          "data": {
            "text/plain": [
              "<Figure size 1080x360 with 1 Axes>"
            ],
            "image/png": "[encoded data removed]"
          },
          "metadata": {
            "needs_background": "light"
          }
        },
        {
          "output_type": "display_data",
          "data": {
            "text/plain": [
              "<Figure size 720x288 with 0 Axes>"
            ]
          },
          "metadata": {}
        },
        {
          "output_type": "display_data",
          "data": {
            "text/plain": [
              "<Figure size 1080x360 with 1 Axes>"
            ],
            "image/png": "[encoded data removed]"
          },
          "metadata": {
            "needs_background": "light"
          }
        },
        {
          "output_type": "display_data",
          "data": {
            "text/plain": [
              "<Figure size 720x288 with 0 Axes>"
            ]
          },
          "metadata": {}
        },
        {
          "output_type": "display_data",
          "data": {
            "text/plain": [
              "<Figure size 1080x360 with 1 Axes>"
            ],
            "image/png": "[encoded data removed]"
          },
          "metadata": {
            "needs_background": "light"
          }
        },
        {
          "output_type": "display_data",
          "data": {
            "text/plain": [
              "<Figure size 720x288 with 0 Axes>"
            ]
          },
          "metadata": {}
        },
        {
          "output_type": "display_data",
          "data": {
            "text/plain": [
              "<Figure size 1080x360 with 1 Axes>"
            ],
            "image/png": "[encoded data removed]"
          },
          "metadata": {
            "needs_background": "light"
          }
        },
        {
          "output_type": "display_data",
          "data": {
            "text/plain": [
              "<Figure size 720x288 with 0 Axes>"
            ]
          },
          "metadata": {}
        },
        {
          "output_type": "display_data",
          "data": {
            "text/plain": [
              "<Figure size 1080x360 with 1 Axes>"
            ],
            "image/png": "[encoded data removed]"
          },
          "metadata": {
            "needs_background": "light"
          }
        }
      ],
      "source": [
        "def analyze_cont_vars(df,var):\n",
        "    \n",
        "    new_df = df.copy()\n",
        "    fig, ax = plt.subplots(figsize=(15, 5))\n",
        "    ax = sns.countplot(x=var, hue=\"y\", data=new_df, ax = ax)\n",
        "    plt.xlabel(var)\n",
        "    plt.xticks(rotation=45)\n",
        "    plt.ylabel('Count')\n",
        "    plt.title('Variation of :'+ var)\n",
        "    plt.show()\n",
        "    \n",
        "columns_to_plot = df[['job','marital','education','default','housing','loan','contact','month','day_of_week','poutcome','emp.var.rate','cons.price.idx','cons.conf.idx','nr.employed','age_range','campaign','y','pdays']]\n",
        "\n",
        "for var in columns_to_plot:\n",
        "    plt.figure(figsize=(10,4))\n",
        "    analyze_cont_vars(columns_to_plot,var)"
      ]
    },
    {
      "cell_type": "markdown",
      "metadata": {
        "id": "KGrK-Se2XvOE"
      },
      "source": [
        "#### Comparing euribor3m with target values"
      ]
    },
    {
      "cell_type": "code",
      "execution_count": 21,
      "metadata": {
        "id": "T6_iIJfWXvOF",
        "outputId": "b450a700-2a87-4986-c747-15c942786bd1",
        "colab": {
          "base_uri": "https://localhost:8080/",
          "height": 386
        }
      },
      "outputs": [
        {
          "output_type": "execute_result",
          "data": {
            "text/plain": [
              "<seaborn.axisgrid.FacetGrid at 0x7f1c86b83290>"
            ]
          },
          "metadata": {},
          "execution_count": 21
        },
        {
          "output_type": "display_data",
          "data": {
            "text/plain": [
              "<Figure size 720x360 with 2 Axes>"
            ],
            "image/png": "[encoded data removed]"
          },
          "metadata": {
            "needs_background": "light"
          }
        }
      ],
      "source": [
        "sns.displot(data=df, x=\"euribor3m\", col=\"y\", kde=True)"
      ]
    },
    {
      "cell_type": "code",
      "execution_count": 21,
      "metadata": {
        "id": "uUk-6OQ1XvOF"
      },
      "outputs": [],
      "source": [
        ""
      ]
    },
    {
      "cell_type": "raw",
      "metadata": {
        "id": "BRVpJYi7XvOG"
      },
      "source": [
        "After EDA the below values will be converted\n",
        "Converting the target value to numeric values (yes = 1 and no = 0)\n",
        "The unknown values and no in the features default, housing, loan, contact are mapped to 0 and yes is mapped to 1\n",
        "The features marital, job, education, month, day_of_week, poutcome are encoded with dummies"
      ]
    },
    {
      "cell_type": "code",
      "execution_count": 22,
      "metadata": {
        "id": "TVl8VFGMXvOG"
      },
      "outputs": [],
      "source": [
        "data = df\n",
        "df['y'] = df.y.map(dict(yes=1, no=0))\n",
        "df['default'] = df.default.map(dict(yes=1, no=0, unknown=0))\n",
        "df['housing'] = df.housing.map(dict(yes=1, no=0, unknown=0))\n",
        "df['loan'] = df.loan.map(dict(yes=1, no=0, unknown=0))\n",
        "df['contact'] = df.contact.map(dict(telephone=1, cellular=0))\n"
      ]
    },
    {
      "cell_type": "markdown",
      "metadata": {
        "id": "VrQb9_DuXvOG"
      },
      "source": [
        "#### The unknown in job is mapped as unemployed, in marital it is mapped to single, and in education it is mapped to illiterate"
      ]
    },
    {
      "cell_type": "code",
      "execution_count": 23,
      "metadata": {
        "id": "3HPQ52n2XvOG"
      },
      "outputs": [],
      "source": [
        "df['job'] = df.job.map(dict(unknown='unemployed'))\n",
        "df['marital'] = df.marital.map(dict(unknown='single'))\n",
        "df['education'] = df.education.map(dict(unknown='illiterate'))"
      ]
    },
    {
      "cell_type": "code",
      "execution_count": 23,
      "metadata": {
        "id": "S9fQ2AarXvOH"
      },
      "outputs": [],
      "source": [
        ""
      ]
    },
    {
      "cell_type": "markdown",
      "metadata": {
        "id": "YaTGKwBnXvOH"
      },
      "source": [
        "### Problem 4: Understanding the Task\n",
        "\n",
        "After examining the description and data, your goal now is to clearly state the *Business Objective* of the task.  State the objective below."
      ]
    },
    {
      "cell_type": "markdown",
      "metadata": {
        "id": "p-lch641XvOH"
      },
      "source": [
        "#### Have to find how the model improves when additional features are added. \n",
        "\n",
        "When adding euribor3m, other economic related fields and previous customer status the model should improve. Can the model improves the sales representive will have high chance to call right customer.\n",
        "\n",
        "Below is the process to find the important feature and the features - age, loan,contact,day_of_week from the dataset appears to be least important.\n",
        "\n",
        "To find the important feature from the given 19 features, the categorial data is mapped in 2 ways to extract the features\n",
        "\n",
        "1. mapped to codes\n",
        "\n",
        "2. hot coded\n",
        "\n",
        "\n",
        "And then perfoming all the 3 methods to find the features which plays important role in target classification.\n",
        "\n",
        "1. permutation_importance with simple LogisticRegression on the dataset\n",
        "2. Comparing the correlation to the target y value\n",
        "3. Using SequentialFeatureSelector for finding the first 10(with categorical codes) /15(Hot codeing) imporatant features."
      ]
    },
    {
      "cell_type": "code",
      "execution_count": 24,
      "metadata": {
        "id": "MgptQ9geXvOI",
        "outputId": "70c6e0cc-95f1-4a62-c826-1518954d6db8",
        "colab": {
          "base_uri": "https://localhost:8080/"
        }
      },
      "outputs": [
        {
          "output_type": "stream",
          "name": "stdout",
          "text": [
            "<class 'pandas.core.frame.DataFrame'>\n",
            "RangeIndex: 41188 entries, 0 to 41187\n",
            "Data columns (total 21 columns):\n",
            " #   Column          Non-Null Count  Dtype   \n",
            "---  ------          --------------  -----   \n",
            " 0   age             41188 non-null  int64   \n",
            " 1   job             330 non-null    object  \n",
            " 2   marital         80 non-null     object  \n",
            " 3   education       1731 non-null   object  \n",
            " 4   default         41188 non-null  int64   \n",
            " 5   housing         41188 non-null  int64   \n",
            " 6   loan            41188 non-null  int64   \n",
            " 7   contact         41188 non-null  int64   \n",
            " 8   month           41188 non-null  object  \n",
            " 9   day_of_week     41188 non-null  object  \n",
            " 10  campaign        41188 non-null  int64   \n",
            " 11  pdays           41188 non-null  int64   \n",
            " 12  previous        41188 non-null  int64   \n",
            " 13  poutcome        41188 non-null  object  \n",
            " 14  emp.var.rate    41188 non-null  float64 \n",
            " 15  cons.price.idx  41188 non-null  float64 \n",
            " 16  cons.conf.idx   41188 non-null  float64 \n",
            " 17  euribor3m       41188 non-null  float64 \n",
            " 18  nr.employed     41188 non-null  float64 \n",
            " 19  y               41188 non-null  int64   \n",
            " 20  age_range       41188 non-null  category\n",
            "dtypes: category(1), float64(5), int64(9), object(6)\n",
            "memory usage: 6.3+ MB\n"
          ]
        }
      ],
      "source": [
        "df.info()"
      ]
    },
    {
      "cell_type": "markdown",
      "metadata": {
        "id": "atXUNsScXvOI"
      },
      "source": [
        "Using permutation_importance to find the feature importance by dummy values to the categorial values"
      ]
    },
    {
      "cell_type": "code",
      "execution_count": 25,
      "metadata": {
        "id": "7AWO7muzXvOI",
        "outputId": "0d098731-0b48-4422-ee1e-83ce8d3c183c",
        "colab": {
          "base_uri": "https://localhost:8080/",
          "height": 614
        }
      },
      "outputs": [
        {
          "output_type": "execute_result",
          "data": {
            "text/plain": [
              "          Variable     Score\n",
              "11           pdays  0.013652\n",
              "16       euribor3m  0.007724\n",
              "17     nr.employed  0.002577\n",
              "15   cons.conf.idx  0.001120\n",
              "10        campaign  0.000624\n",
              "8            month  0.000517\n",
              "14  cons.price.idx  0.000451\n",
              "9      day_of_week  0.000125\n",
              "1              job  0.000000\n",
              "6             loan  0.000000\n",
              "4          default  0.000000\n",
              "3        education  0.000000\n",
              "2          marital  0.000000\n",
              "13        poutcome -0.000003\n",
              "5          housing -0.000021\n",
              "12        previous -0.000038\n",
              "7          contact -0.000059\n",
              "0              age -0.000069"
            ],
            "text/html": [
              "\n",
              "  <div id=\"df-7c13a2b9-3acd-4c8e-92b3-18bc305beb20\">\n",
              "    <div class=\"colab-df-container\">\n",
              "      <div>\n",
              "<style scoped>\n",
              "    .dataframe tbody tr th:only-of-type {\n",
              "        vertical-align: middle;\n",
              "    }\n",
              "\n",
              "    .dataframe tbody tr th {\n",
              "        vertical-align: top;\n",
              "    }\n",
              "\n",
              "    .dataframe thead th {\n",
              "        text-align: right;\n",
              "    }\n",
              "</style>\n",
              "<table border=\"1\" class=\"dataframe\">\n",
              "  <thead>\n",
              "    <tr style=\"text-align: right;\">\n",
              "      <th></th>\n",
              "      <th>Variable</th>\n",
              "      <th>Score</th>\n",
              "    </tr>\n",
              "  </thead>\n",
              "  <tbody>\n",
              "    <tr>\n",
              "      <th>11</th>\n",
              "      <td>pdays</td>\n",
              "      <td>0.013652</td>\n",
              "    </tr>\n",
              "    <tr>\n",
              "      <th>16</th>\n",
              "      <td>euribor3m</td>\n",
              "      <td>0.007724</td>\n",
              "    </tr>\n",
              "    <tr>\n",
              "      <th>17</th>\n",
              "      <td>nr.employed</td>\n",
              "      <td>0.002577</td>\n",
              "    </tr>\n",
              "    <tr>\n",
              "      <th>15</th>\n",
              "      <td>cons.conf.idx</td>\n",
              "      <td>0.001120</td>\n",
              "    </tr>\n",
              "    <tr>\n",
              "      <th>10</th>\n",
              "      <td>campaign</td>\n",
              "      <td>0.000624</td>\n",
              "    </tr>\n",
              "    <tr>\n",
              "      <th>8</th>\n",
              "      <td>month</td>\n",
              "      <td>0.000517</td>\n",
              "    </tr>\n",
              "    <tr>\n",
              "      <th>14</th>\n",
              "      <td>cons.price.idx</td>\n",
              "      <td>0.000451</td>\n",
              "    </tr>\n",
              "    <tr>\n",
              "      <th>9</th>\n",
              "      <td>day_of_week</td>\n",
              "      <td>0.000125</td>\n",
              "    </tr>\n",
              "    <tr>\n",
              "      <th>1</th>\n",
              "      <td>job</td>\n",
              "      <td>0.000000</td>\n",
              "    </tr>\n",
              "    <tr>\n",
              "      <th>6</th>\n",
              "      <td>loan</td>\n",
              "      <td>0.000000</td>\n",
              "    </tr>\n",
              "    <tr>\n",
              "      <th>4</th>\n",
              "      <td>default</td>\n",
              "      <td>0.000000</td>\n",
              "    </tr>\n",
              "    <tr>\n",
              "      <th>3</th>\n",
              "      <td>education</td>\n",
              "      <td>0.000000</td>\n",
              "    </tr>\n",
              "    <tr>\n",
              "      <th>2</th>\n",
              "      <td>marital</td>\n",
              "      <td>0.000000</td>\n",
              "    </tr>\n",
              "    <tr>\n",
              "      <th>13</th>\n",
              "      <td>poutcome</td>\n",
              "      <td>-0.000003</td>\n",
              "    </tr>\n",
              "    <tr>\n",
              "      <th>5</th>\n",
              "      <td>housing</td>\n",
              "      <td>-0.000021</td>\n",
              "    </tr>\n",
              "    <tr>\n",
              "      <th>12</th>\n",
              "      <td>previous</td>\n",
              "      <td>-0.000038</td>\n",
              "    </tr>\n",
              "    <tr>\n",
              "      <th>7</th>\n",
              "      <td>contact</td>\n",
              "      <td>-0.000059</td>\n",
              "    </tr>\n",
              "    <tr>\n",
              "      <th>0</th>\n",
              "      <td>age</td>\n",
              "      <td>-0.000069</td>\n",
              "    </tr>\n",
              "  </tbody>\n",
              "</table>\n",
              "</div>\n",
              "      <button class=\"colab-df-convert\" onclick=\"convertToInteractive('df-7c13a2b9-3acd-4c8e-92b3-18bc305beb20')\"\n",
              "              title=\"Convert this dataframe to an interactive table.\"\n",
              "              style=\"display:none;\">\n",
              "        \n",
              "  <svg xmlns=\"http://www.w3.org/2000/svg\" height=\"24px\"viewBox=\"0 0 24 24\"\n",
              "       width=\"24px\">\n",
              "    <path d=\"M0 0h24v24H0V0z\" fill=\"none\"/>\n",
              "    <path d=\"M18.56 5.44l.94 2.06.94-2.06 2.06-.94-2.06-.94-.94-2.06-.94 2.06-2.06.94zm-11 1L8.5 8.5l.94-2.06 2.06-.94-2.06-.94L8.5 2.5l-.94 2.06-2.06.94zm10 10l.94 2.06.94-2.06 2.06-.94-2.06-.94-.94-2.06-.94 2.06-2.06.94z\"/><path d=\"M17.41 7.96l-1.37-1.37c-.4-.4-.92-.59-1.43-.59-.52 0-1.04.2-1.43.59L10.3 9.45l-7.72 7.72c-.78.78-.78 2.05 0 2.83L4 21.41c.39.39.9.59 1.41.59.51 0 1.02-.2 1.41-.59l7.78-7.78 2.81-2.81c.8-.78.8-2.07 0-2.86zM5.41 20L4 18.59l7.72-7.72 1.47 1.35L5.41 20z\"/>\n",
              "  </svg>\n",
              "      </button>\n",
              "      \n",
              "  <style>\n",
              "    .colab-df-container {\n",
              "      display:flex;\n",
              "      flex-wrap:wrap;\n",
              "      gap: 12px;\n",
              "    }\n",
              "\n",
              "    .colab-df-convert {\n",
              "      background-color: #E8F0FE;\n",
              "      border: none;\n",
              "      border-radius: 50%;\n",
              "      cursor: pointer;\n",
              "      display: none;\n",
              "      fill: #1967D2;\n",
              "      height: 32px;\n",
              "      padding: 0 0 0 0;\n",
              "      width: 32px;\n",
              "    }\n",
              "\n",
              "    .colab-df-convert:hover {\n",
              "      background-color: #E2EBFA;\n",
              "      box-shadow: 0px 1px 2px rgba(60, 64, 67, 0.3), 0px 1px 3px 1px rgba(60, 64, 67, 0.15);\n",
              "      fill: #174EA6;\n",
              "    }\n",
              "\n",
              "    [theme=dark] .colab-df-convert {\n",
              "      background-color: #3B4455;\n",
              "      fill: #D2E3FC;\n",
              "    }\n",
              "\n",
              "    [theme=dark] .colab-df-convert:hover {\n",
              "      background-color: #434B5C;\n",
              "      box-shadow: 0px 1px 3px 1px rgba(0, 0, 0, 0.15);\n",
              "      filter: drop-shadow(0px 1px 2px rgba(0, 0, 0, 0.3));\n",
              "      fill: #FFFFFF;\n",
              "    }\n",
              "  </style>\n",
              "\n",
              "      <script>\n",
              "        const buttonEl =\n",
              "          document.querySelector('#df-7c13a2b9-3acd-4c8e-92b3-18bc305beb20 button.colab-df-convert');\n",
              "        buttonEl.style.display =\n",
              "          google.colab.kernel.accessAllowed ? 'block' : 'none';\n",
              "\n",
              "        async function convertToInteractive(key) {\n",
              "          const element = document.querySelector('#df-7c13a2b9-3acd-4c8e-92b3-18bc305beb20');\n",
              "          const dataTable =\n",
              "            await google.colab.kernel.invokeFunction('convertToInteractive',\n",
              "                                                     [key], {});\n",
              "          if (!dataTable) return;\n",
              "\n",
              "          const docLinkHtml = 'Like what you see? Visit the ' +\n",
              "            '<a target=\"_blank\" href=https://colab.research.google.com/notebooks/data_table.ipynb>data table notebook</a>'\n",
              "            + ' to learn more about interactive tables.';\n",
              "          element.innerHTML = '';\n",
              "          dataTable['output_type'] = 'display_data';\n",
              "          await google.colab.output.renderOutput(dataTable, element);\n",
              "          const docLink = document.createElement('div');\n",
              "          docLink.innerHTML = docLinkHtml;\n",
              "          element.appendChild(docLink);\n",
              "        }\n",
              "      </script>\n",
              "    </div>\n",
              "  </div>\n",
              "  "
            ]
          },
          "metadata": {},
          "execution_count": 25
        }
      ],
      "source": [
        "data_codes = df\n",
        "\n",
        "data_codes.drop(columns=['emp.var.rate'],inplace = True)\n",
        "data_codes['job'] = data_codes['job'].astype('category').cat.codes\n",
        "data_codes['marital'] = data_codes['marital'].astype('category').cat.codes\n",
        "data_codes['education'] = data_codes['education'].astype('category').cat.codes\n",
        "data_codes['month'] = data_codes['month'].astype('category').cat.codes\n",
        "data_codes['day_of_week'] = data_codes['day_of_week'].astype('category').cat.codes\n",
        "data_codes['poutcome'] = data_codes['poutcome'].astype('category').cat.codes\n",
        "\n",
        "y = data_codes['y']\n",
        "X = data_codes.drop(columns=['y','age_range'])\n",
        "X_train,X_test,y_train,y_test = train_test_split(X,y, test_size = 0.3, random_state = 42)\n",
        "\n",
        "log_model = LogisticRegression().fit(X_train, y_train)\n",
        "\n",
        "r = permutation_importance(log_model, X_train, y_train, n_repeats = 10, random_state = 123)\n",
        "\n",
        "pd.DataFrame({\"Variable\":X.columns, \"Score\":r.importances_mean}).sort_values(by = \"Score\", ascending = False)"
      ]
    },
    {
      "cell_type": "markdown",
      "metadata": {
        "id": "iJfDn0xoXvOI"
      },
      "source": [
        "Correlation between the features\n",
        "\n",
        "nr.employed, pdays, euribor3m, emp.var.rate, previous, cons.price.idx, contact, poutcome"
      ]
    },
    {
      "cell_type": "code",
      "execution_count": 26,
      "metadata": {
        "id": "J4XjHvFqXvOJ",
        "outputId": "24e269a0-41d6-465c-bfd0-4a943c3c2ea2",
        "colab": {
          "base_uri": "https://localhost:8080/",
          "height": 672
        }
      },
      "outputs": [
        {
          "output_type": "execute_result",
          "data": {
            "text/plain": [
              "<matplotlib.axes._subplots.AxesSubplot at 0x7f1c871c94d0>"
            ]
          },
          "metadata": {},
          "execution_count": 26
        },
        {
          "output_type": "display_data",
          "data": {
            "text/plain": [
              "<Figure size 1440x720 with 2 Axes>"
            ],
            "image/png": "[encoded data removed]"
          },
          "metadata": {
            "needs_background": "light"
          }
        }
      ],
      "source": [
        "fig, ax = plt.subplots(figsize=(20,10))  \n",
        "sns.heatmap(data_codes.corr(),annot=True,ax=ax)"
      ]
    },
    {
      "cell_type": "markdown",
      "metadata": {
        "id": "7Wp05yroXvOJ"
      },
      "source": [
        "Selecting the important features using SequentialFeatureSelector"
      ]
    },
    {
      "cell_type": "code",
      "execution_count": 27,
      "metadata": {
        "id": "4wE4j3NAXvOJ"
      },
      "outputs": [],
      "source": [
        "sfs = SequentialFeatureSelector(LogisticRegression(), n_features_to_select=10).fit(X_train, y_train)"
      ]
    },
    {
      "cell_type": "code",
      "execution_count": 28,
      "metadata": {
        "id": "Ssm7RA2-XvOK",
        "outputId": "e9b4703e-3eac-4c1c-fe76-835a4929922f",
        "colab": {
          "base_uri": "https://localhost:8080/"
        }
      },
      "outputs": [
        {
          "output_type": "execute_result",
          "data": {
            "text/plain": [
              "Index(['age', 'default', 'month', 'campaign', 'pdays', 'previous',\n",
              "       'cons.price.idx', 'cons.conf.idx', 'euribor3m', 'nr.employed'],\n",
              "      dtype='object')"
            ]
          },
          "metadata": {},
          "execution_count": 28
        }
      ],
      "source": [
        "feature_names = X_train.columns\n",
        "feature_names[sfs.get_support()]"
      ]
    },
    {
      "cell_type": "markdown",
      "metadata": {
        "id": "LQbenHnFXvOK"
      },
      "source": [
        "#### Now are considering the features by hot codeing some categorical features (marital, job, education, month, day_of_week, poutcome)\n",
        "1. permutation_importance with simple LogisticRegression on the dataset\n",
        "2. Comparing the correlation to the target y value\n",
        "3. Using SequentialFeatureSelector for finding the first 15 imporatant features."
      ]
    },
    {
      "cell_type": "markdown",
      "metadata": {
        "id": "KxPoQHK3XvOK"
      },
      "source": [
        "#### 1. permutation_importance with simple LogisticRegression on the dataset"
      ]
    },
    {
      "cell_type": "markdown",
      "metadata": {
        "id": "Cg3-9NlrXvOK"
      },
      "source": [
        "data_improv = df\n",
        "\n",
        "cat_features = ['marital','job','education','month','day_of_week','poutcome']\n",
        "for var in cat_features:\n",
        "    tempdf = pd.get_dummies(data_improv[var],prefix=var)\n",
        "    data_improv = pd.merge(left=data_improv,right=tempdf,left_index=True,right_index=True)\n",
        "\n",
        "X = data_improv.copy()\n",
        "X.drop(columns = ['marital','job','education','month','day_of_week','poutcome','age_range','y'],inplace=True)\n",
        "y = data_improv['y']\n",
        "X_train,X_test,y_train,y_test = train_test_split(X,y, test_size = 0.3, random_state = 42)\n",
        "\n",
        "log_model = LogisticRegression().fit(X_train, y_train)\n",
        "\n",
        "r = permutation_importance(log_model, X_train, y_train, n_repeats = 10, random_state = 123)\n",
        "\n",
        "pd.DataFrame({\"Variable\":X.columns, \"Score\":r.importances_mean}).sort_values(by = \"Score\", ascending = False)"
      ]
    },
    {
      "cell_type": "code",
      "source": [
        "data_improv = df\n",
        "\n",
        "cat_features = ['marital','job','education','month','day_of_week','poutcome']\n",
        "for var in cat_features:\n",
        "    tempdf = pd.get_dummies(data_improv[var],prefix=var)\n",
        "    data_improv = pd.merge(left=data_improv,right=tempdf,left_index=True,right_index=True)\n",
        "\n",
        "X = data_improv.copy()\n",
        "X.drop(columns = ['marital','job','education','month','day_of_week','poutcome','age_range','y'],inplace=True)\n",
        "y = data_improv['y']\n",
        "X_train,X_test,y_train,y_test = train_test_split(X,y, test_size = 0.3, random_state = 42)\n",
        "\n",
        "log_model = LogisticRegression().fit(X_train, y_train)\n",
        "\n",
        "r = permutation_importance(log_model, X_train, y_train, n_repeats = 10, random_state = 123)\n",
        "\n",
        "pd.DataFrame({\"Variable\":X.columns, \"Score\":r.importances_mean}).sort_values(by = \"Score\", ascending = False)"
      ],
      "metadata": {
        "colab": {
          "base_uri": "https://localhost:8080/",
          "height": 0
        },
        "id": "rol2zNAspb6N",
        "outputId": "b484fd69-43ba-47b8-e9ae-7a81980e6749"
      },
      "execution_count": 29,
      "outputs": [
        {
          "output_type": "execute_result",
          "data": {
            "text/plain": [
              "          Variable     Score\n",
              "6            pdays  0.012795\n",
              "10       euribor3m  0.007971\n",
              "11     nr.employed  0.002088\n",
              "9    cons.conf.idx  0.000763\n",
              "5         campaign  0.000576\n",
              "8   cons.price.idx  0.000506\n",
              "29   day_of_week_1  0.000000\n",
              "23         month_5  0.000000\n",
              "25         month_7  0.000000\n",
              "26         month_8  0.000000\n",
              "27         month_9  0.000000\n",
              "28   day_of_week_0  0.000000\n",
              "18         month_0  0.000000\n",
              "30   day_of_week_2  0.000000\n",
              "21         month_3  0.000000\n",
              "31   day_of_week_3  0.000000\n",
              "32   day_of_week_4  0.000000\n",
              "33      poutcome_0  0.000000\n",
              "34      poutcome_1  0.000000\n",
              "22         month_4  0.000000\n",
              "35      poutcome_2  0.000000\n",
              "20         month_2  0.000000\n",
              "19         month_1  0.000000\n",
              "1          default  0.000000\n",
              "17     education_0  0.000000\n",
              "16    education_-1  0.000000\n",
              "15           job_0  0.000000\n",
              "14          job_-1  0.000000\n",
              "13       marital_0  0.000000\n",
              "12      marital_-1  0.000000\n",
              "7         previous  0.000000\n",
              "3             loan  0.000000\n",
              "2          housing  0.000000\n",
              "4          contact -0.000007\n",
              "24         month_6 -0.000021\n",
              "0              age -0.000024"
            ],
            "text/html": [
              "\n",
              "  <div id=\"df-dd349f74-2050-44cb-946f-df12fec7f0b1\">\n",
              "    <div class=\"colab-df-container\">\n",
              "      <div>\n",
              "<style scoped>\n",
              "    .dataframe tbody tr th:only-of-type {\n",
              "        vertical-align: middle;\n",
              "    }\n",
              "\n",
              "    .dataframe tbody tr th {\n",
              "        vertical-align: top;\n",
              "    }\n",
              "\n",
              "    .dataframe thead th {\n",
              "        text-align: right;\n",
              "    }\n",
              "</style>\n",
              "<table border=\"1\" class=\"dataframe\">\n",
              "  <thead>\n",
              "    <tr style=\"text-align: right;\">\n",
              "      <th></th>\n",
              "      <th>Variable</th>\n",
              "      <th>Score</th>\n",
              "    </tr>\n",
              "  </thead>\n",
              "  <tbody>\n",
              "    <tr>\n",
              "      <th>6</th>\n",
              "      <td>pdays</td>\n",
              "      <td>0.012795</td>\n",
              "    </tr>\n",
              "    <tr>\n",
              "      <th>10</th>\n",
              "      <td>euribor3m</td>\n",
              "      <td>0.007971</td>\n",
              "    </tr>\n",
              "    <tr>\n",
              "      <th>11</th>\n",
              "      <td>nr.employed</td>\n",
              "      <td>0.002088</td>\n",
              "    </tr>\n",
              "    <tr>\n",
              "      <th>9</th>\n",
              "      <td>cons.conf.idx</td>\n",
              "      <td>0.000763</td>\n",
              "    </tr>\n",
              "    <tr>\n",
              "      <th>5</th>\n",
              "      <td>campaign</td>\n",
              "      <td>0.000576</td>\n",
              "    </tr>\n",
              "    <tr>\n",
              "      <th>8</th>\n",
              "      <td>cons.price.idx</td>\n",
              "      <td>0.000506</td>\n",
              "    </tr>\n",
              "    <tr>\n",
              "      <th>29</th>\n",
              "      <td>day_of_week_1</td>\n",
              "      <td>0.000000</td>\n",
              "    </tr>\n",
              "    <tr>\n",
              "      <th>23</th>\n",
              "      <td>month_5</td>\n",
              "      <td>0.000000</td>\n",
              "    </tr>\n",
              "    <tr>\n",
              "      <th>25</th>\n",
              "      <td>month_7</td>\n",
              "      <td>0.000000</td>\n",
              "    </tr>\n",
              "    <tr>\n",
              "      <th>26</th>\n",
              "      <td>month_8</td>\n",
              "      <td>0.000000</td>\n",
              "    </tr>\n",
              "    <tr>\n",
              "      <th>27</th>\n",
              "      <td>month_9</td>\n",
              "      <td>0.000000</td>\n",
              "    </tr>\n",
              "    <tr>\n",
              "      <th>28</th>\n",
              "      <td>day_of_week_0</td>\n",
              "      <td>0.000000</td>\n",
              "    </tr>\n",
              "    <tr>\n",
              "      <th>18</th>\n",
              "      <td>month_0</td>\n",
              "      <td>0.000000</td>\n",
              "    </tr>\n",
              "    <tr>\n",
              "      <th>30</th>\n",
              "      <td>day_of_week_2</td>\n",
              "      <td>0.000000</td>\n",
              "    </tr>\n",
              "    <tr>\n",
              "      <th>21</th>\n",
              "      <td>month_3</td>\n",
              "      <td>0.000000</td>\n",
              "    </tr>\n",
              "    <tr>\n",
              "      <th>31</th>\n",
              "      <td>day_of_week_3</td>\n",
              "      <td>0.000000</td>\n",
              "    </tr>\n",
              "    <tr>\n",
              "      <th>32</th>\n",
              "      <td>day_of_week_4</td>\n",
              "      <td>0.000000</td>\n",
              "    </tr>\n",
              "    <tr>\n",
              "      <th>33</th>\n",
              "      <td>poutcome_0</td>\n",
              "      <td>0.000000</td>\n",
              "    </tr>\n",
              "    <tr>\n",
              "      <th>34</th>\n",
              "      <td>poutcome_1</td>\n",
              "      <td>0.000000</td>\n",
              "    </tr>\n",
              "    <tr>\n",
              "      <th>22</th>\n",
              "      <td>month_4</td>\n",
              "      <td>0.000000</td>\n",
              "    </tr>\n",
              "    <tr>\n",
              "      <th>35</th>\n",
              "      <td>poutcome_2</td>\n",
              "      <td>0.000000</td>\n",
              "    </tr>\n",
              "    <tr>\n",
              "      <th>20</th>\n",
              "      <td>month_2</td>\n",
              "      <td>0.000000</td>\n",
              "    </tr>\n",
              "    <tr>\n",
              "      <th>19</th>\n",
              "      <td>month_1</td>\n",
              "      <td>0.000000</td>\n",
              "    </tr>\n",
              "    <tr>\n",
              "      <th>1</th>\n",
              "      <td>default</td>\n",
              "      <td>0.000000</td>\n",
              "    </tr>\n",
              "    <tr>\n",
              "      <th>17</th>\n",
              "      <td>education_0</td>\n",
              "      <td>0.000000</td>\n",
              "    </tr>\n",
              "    <tr>\n",
              "      <th>16</th>\n",
              "      <td>education_-1</td>\n",
              "      <td>0.000000</td>\n",
              "    </tr>\n",
              "    <tr>\n",
              "      <th>15</th>\n",
              "      <td>job_0</td>\n",
              "      <td>0.000000</td>\n",
              "    </tr>\n",
              "    <tr>\n",
              "      <th>14</th>\n",
              "      <td>job_-1</td>\n",
              "      <td>0.000000</td>\n",
              "    </tr>\n",
              "    <tr>\n",
              "      <th>13</th>\n",
              "      <td>marital_0</td>\n",
              "      <td>0.000000</td>\n",
              "    </tr>\n",
              "    <tr>\n",
              "      <th>12</th>\n",
              "      <td>marital_-1</td>\n",
              "      <td>0.000000</td>\n",
              "    </tr>\n",
              "    <tr>\n",
              "      <th>7</th>\n",
              "      <td>previous</td>\n",
              "      <td>0.000000</td>\n",
              "    </tr>\n",
              "    <tr>\n",
              "      <th>3</th>\n",
              "      <td>loan</td>\n",
              "      <td>0.000000</td>\n",
              "    </tr>\n",
              "    <tr>\n",
              "      <th>2</th>\n",
              "      <td>housing</td>\n",
              "      <td>0.000000</td>\n",
              "    </tr>\n",
              "    <tr>\n",
              "      <th>4</th>\n",
              "      <td>contact</td>\n",
              "      <td>-0.000007</td>\n",
              "    </tr>\n",
              "    <tr>\n",
              "      <th>24</th>\n",
              "      <td>month_6</td>\n",
              "      <td>-0.000021</td>\n",
              "    </tr>\n",
              "    <tr>\n",
              "      <th>0</th>\n",
              "      <td>age</td>\n",
              "      <td>-0.000024</td>\n",
              "    </tr>\n",
              "  </tbody>\n",
              "</table>\n",
              "</div>\n",
              "      <button class=\"colab-df-convert\" onclick=\"convertToInteractive('df-dd349f74-2050-44cb-946f-df12fec7f0b1')\"\n",
              "              title=\"Convert this dataframe to an interactive table.\"\n",
              "              style=\"display:none;\">\n",
              "        \n",
              "  <svg xmlns=\"http://www.w3.org/2000/svg\" height=\"24px\"viewBox=\"0 0 24 24\"\n",
              "       width=\"24px\">\n",
              "    <path d=\"M0 0h24v24H0V0z\" fill=\"none\"/>\n",
              "    <path d=\"M18.56 5.44l.94 2.06.94-2.06 2.06-.94-2.06-.94-.94-2.06-.94 2.06-2.06.94zm-11 1L8.5 8.5l.94-2.06 2.06-.94-2.06-.94L8.5 2.5l-.94 2.06-2.06.94zm10 10l.94 2.06.94-2.06 2.06-.94-2.06-.94-.94-2.06-.94 2.06-2.06.94z\"/><path d=\"M17.41 7.96l-1.37-1.37c-.4-.4-.92-.59-1.43-.59-.52 0-1.04.2-1.43.59L10.3 9.45l-7.72 7.72c-.78.78-.78 2.05 0 2.83L4 21.41c.39.39.9.59 1.41.59.51 0 1.02-.2 1.41-.59l7.78-7.78 2.81-2.81c.8-.78.8-2.07 0-2.86zM5.41 20L4 18.59l7.72-7.72 1.47 1.35L5.41 20z\"/>\n",
              "  </svg>\n",
              "      </button>\n",
              "      \n",
              "  <style>\n",
              "    .colab-df-container {\n",
              "      display:flex;\n",
              "      flex-wrap:wrap;\n",
              "      gap: 12px;\n",
              "    }\n",
              "\n",
              "    .colab-df-convert {\n",
              "      background-color: #E8F0FE;\n",
              "      border: none;\n",
              "      border-radius: 50%;\n",
              "      cursor: pointer;\n",
              "      display: none;\n",
              "      fill: #1967D2;\n",
              "      height: 32px;\n",
              "      padding: 0 0 0 0;\n",
              "      width: 32px;\n",
              "    }\n",
              "\n",
              "    .colab-df-convert:hover {\n",
              "      background-color: #E2EBFA;\n",
              "      box-shadow: 0px 1px 2px rgba(60, 64, 67, 0.3), 0px 1px 3px 1px rgba(60, 64, 67, 0.15);\n",
              "      fill: #174EA6;\n",
              "    }\n",
              "\n",
              "    [theme=dark] .colab-df-convert {\n",
              "      background-color: #3B4455;\n",
              "      fill: #D2E3FC;\n",
              "    }\n",
              "\n",
              "    [theme=dark] .colab-df-convert:hover {\n",
              "      background-color: #434B5C;\n",
              "      box-shadow: 0px 1px 3px 1px rgba(0, 0, 0, 0.15);\n",
              "      filter: drop-shadow(0px 1px 2px rgba(0, 0, 0, 0.3));\n",
              "      fill: #FFFFFF;\n",
              "    }\n",
              "  </style>\n",
              "\n",
              "      <script>\n",
              "        const buttonEl =\n",
              "          document.querySelector('#df-dd349f74-2050-44cb-946f-df12fec7f0b1 button.colab-df-convert');\n",
              "        buttonEl.style.display =\n",
              "          google.colab.kernel.accessAllowed ? 'block' : 'none';\n",
              "\n",
              "        async function convertToInteractive(key) {\n",
              "          const element = document.querySelector('#df-dd349f74-2050-44cb-946f-df12fec7f0b1');\n",
              "          const dataTable =\n",
              "            await google.colab.kernel.invokeFunction('convertToInteractive',\n",
              "                                                     [key], {});\n",
              "          if (!dataTable) return;\n",
              "\n",
              "          const docLinkHtml = 'Like what you see? Visit the ' +\n",
              "            '<a target=\"_blank\" href=https://colab.research.google.com/notebooks/data_table.ipynb>data table notebook</a>'\n",
              "            + ' to learn more about interactive tables.';\n",
              "          element.innerHTML = '';\n",
              "          dataTable['output_type'] = 'display_data';\n",
              "          await google.colab.output.renderOutput(dataTable, element);\n",
              "          const docLink = document.createElement('div');\n",
              "          docLink.innerHTML = docLinkHtml;\n",
              "          element.appendChild(docLink);\n",
              "        }\n",
              "      </script>\n",
              "    </div>\n",
              "  </div>\n",
              "  "
            ]
          },
          "metadata": {},
          "execution_count": 29
        }
      ]
    },
    {
      "cell_type": "markdown",
      "metadata": {
        "id": "tkXS7sgpXvOL"
      },
      "source": [
        "#### 2. Comparing the correlation to the target y value"
      ]
    },
    {
      "cell_type": "code",
      "execution_count": 30,
      "metadata": {
        "id": "ZqXpTw6wXvOL",
        "outputId": "384d57d9-f462-4b79-da63-499ac3237a6e",
        "colab": {
          "base_uri": "https://localhost:8080/",
          "height": 0
        }
      },
      "outputs": [
        {
          "output_type": "execute_result",
          "data": {
            "text/plain": [
              "          Variable         y\n",
              "0                y  1.000000\n",
              "1      nr.employed  0.354678\n",
              "2            pdays  0.324914\n",
              "3       poutcome_2  0.316269\n",
              "4        euribor3m  0.307771\n",
              "5         previous  0.230181\n",
              "6       poutcome_1  0.193507\n",
              "7          contact  0.144773\n",
              "8          month_5  0.144014\n",
              "9          month_8  0.137366\n",
              "10  cons.price.idx  0.136211\n",
              "11        poutcome  0.129789\n",
              "12         month_9  0.126067\n",
              "13         month_6  0.108271\n",
              "14         month_2  0.079303\n",
              "15         month_0  0.076136\n",
              "16        campaign  0.066357\n",
              "17   cons.conf.idx  0.054878\n",
              "18         month_3  0.032230\n",
              "19      poutcome_0  0.031799\n",
              "20     education_0  0.021430\n",
              "21       education  0.021430\n",
              "22    education_-1  0.021430\n",
              "23   day_of_week_1  0.021265\n",
              "24     day_of_week  0.015967\n",
              "25   day_of_week_2  0.013888\n",
              "26         month_7  0.011796\n",
              "27         housing  0.011743\n",
              "28         month_4  0.009182\n",
              "29         month_1  0.008813\n",
              "30   day_of_week_3  0.008046\n",
              "31   day_of_week_0  0.006996\n",
              "32   day_of_week_4  0.006302\n",
              "33           month  0.006065\n",
              "34         marital  0.005211\n",
              "35      marital_-1  0.005211\n",
              "36       marital_0  0.005211\n",
              "37            loan  0.004466\n",
              "38         default  0.003041\n",
              "39          job_-1  0.000151\n",
              "40             job  0.000151\n",
              "41           job_0  0.000151"
            ],
            "text/html": [
              "\n",
              "  <div id=\"df-55f477bb-00e6-4cf7-803c-4812cc0f2f1c\">\n",
              "    <div class=\"colab-df-container\">\n",
              "      <div>\n",
              "<style scoped>\n",
              "    .dataframe tbody tr th:only-of-type {\n",
              "        vertical-align: middle;\n",
              "    }\n",
              "\n",
              "    .dataframe tbody tr th {\n",
              "        vertical-align: top;\n",
              "    }\n",
              "\n",
              "    .dataframe thead th {\n",
              "        text-align: right;\n",
              "    }\n",
              "</style>\n",
              "<table border=\"1\" class=\"dataframe\">\n",
              "  <thead>\n",
              "    <tr style=\"text-align: right;\">\n",
              "      <th></th>\n",
              "      <th>Variable</th>\n",
              "      <th>y</th>\n",
              "    </tr>\n",
              "  </thead>\n",
              "  <tbody>\n",
              "    <tr>\n",
              "      <th>0</th>\n",
              "      <td>y</td>\n",
              "      <td>1.000000</td>\n",
              "    </tr>\n",
              "    <tr>\n",
              "      <th>1</th>\n",
              "      <td>nr.employed</td>\n",
              "      <td>0.354678</td>\n",
              "    </tr>\n",
              "    <tr>\n",
              "      <th>2</th>\n",
              "      <td>pdays</td>\n",
              "      <td>0.324914</td>\n",
              "    </tr>\n",
              "    <tr>\n",
              "      <th>3</th>\n",
              "      <td>poutcome_2</td>\n",
              "      <td>0.316269</td>\n",
              "    </tr>\n",
              "    <tr>\n",
              "      <th>4</th>\n",
              "      <td>euribor3m</td>\n",
              "      <td>0.307771</td>\n",
              "    </tr>\n",
              "    <tr>\n",
              "      <th>5</th>\n",
              "      <td>previous</td>\n",
              "      <td>0.230181</td>\n",
              "    </tr>\n",
              "    <tr>\n",
              "      <th>6</th>\n",
              "      <td>poutcome_1</td>\n",
              "      <td>0.193507</td>\n",
              "    </tr>\n",
              "    <tr>\n",
              "      <th>7</th>\n",
              "      <td>contact</td>\n",
              "      <td>0.144773</td>\n",
              "    </tr>\n",
              "    <tr>\n",
              "      <th>8</th>\n",
              "      <td>month_5</td>\n",
              "      <td>0.144014</td>\n",
              "    </tr>\n",
              "    <tr>\n",
              "      <th>9</th>\n",
              "      <td>month_8</td>\n",
              "      <td>0.137366</td>\n",
              "    </tr>\n",
              "    <tr>\n",
              "      <th>10</th>\n",
              "      <td>cons.price.idx</td>\n",
              "      <td>0.136211</td>\n",
              "    </tr>\n",
              "    <tr>\n",
              "      <th>11</th>\n",
              "      <td>poutcome</td>\n",
              "      <td>0.129789</td>\n",
              "    </tr>\n",
              "    <tr>\n",
              "      <th>12</th>\n",
              "      <td>month_9</td>\n",
              "      <td>0.126067</td>\n",
              "    </tr>\n",
              "    <tr>\n",
              "      <th>13</th>\n",
              "      <td>month_6</td>\n",
              "      <td>0.108271</td>\n",
              "    </tr>\n",
              "    <tr>\n",
              "      <th>14</th>\n",
              "      <td>month_2</td>\n",
              "      <td>0.079303</td>\n",
              "    </tr>\n",
              "    <tr>\n",
              "      <th>15</th>\n",
              "      <td>month_0</td>\n",
              "      <td>0.076136</td>\n",
              "    </tr>\n",
              "    <tr>\n",
              "      <th>16</th>\n",
              "      <td>campaign</td>\n",
              "      <td>0.066357</td>\n",
              "    </tr>\n",
              "    <tr>\n",
              "      <th>17</th>\n",
              "      <td>cons.conf.idx</td>\n",
              "      <td>0.054878</td>\n",
              "    </tr>\n",
              "    <tr>\n",
              "      <th>18</th>\n",
              "      <td>month_3</td>\n",
              "      <td>0.032230</td>\n",
              "    </tr>\n",
              "    <tr>\n",
              "      <th>19</th>\n",
              "      <td>poutcome_0</td>\n",
              "      <td>0.031799</td>\n",
              "    </tr>\n",
              "    <tr>\n",
              "      <th>20</th>\n",
              "      <td>education_0</td>\n",
              "      <td>0.021430</td>\n",
              "    </tr>\n",
              "    <tr>\n",
              "      <th>21</th>\n",
              "      <td>education</td>\n",
              "      <td>0.021430</td>\n",
              "    </tr>\n",
              "    <tr>\n",
              "      <th>22</th>\n",
              "      <td>education_-1</td>\n",
              "      <td>0.021430</td>\n",
              "    </tr>\n",
              "    <tr>\n",
              "      <th>23</th>\n",
              "      <td>day_of_week_1</td>\n",
              "      <td>0.021265</td>\n",
              "    </tr>\n",
              "    <tr>\n",
              "      <th>24</th>\n",
              "      <td>day_of_week</td>\n",
              "      <td>0.015967</td>\n",
              "    </tr>\n",
              "    <tr>\n",
              "      <th>25</th>\n",
              "      <td>day_of_week_2</td>\n",
              "      <td>0.013888</td>\n",
              "    </tr>\n",
              "    <tr>\n",
              "      <th>26</th>\n",
              "      <td>month_7</td>\n",
              "      <td>0.011796</td>\n",
              "    </tr>\n",
              "    <tr>\n",
              "      <th>27</th>\n",
              "      <td>housing</td>\n",
              "      <td>0.011743</td>\n",
              "    </tr>\n",
              "    <tr>\n",
              "      <th>28</th>\n",
              "      <td>month_4</td>\n",
              "      <td>0.009182</td>\n",
              "    </tr>\n",
              "    <tr>\n",
              "      <th>29</th>\n",
              "      <td>month_1</td>\n",
              "      <td>0.008813</td>\n",
              "    </tr>\n",
              "    <tr>\n",
              "      <th>30</th>\n",
              "      <td>day_of_week_3</td>\n",
              "      <td>0.008046</td>\n",
              "    </tr>\n",
              "    <tr>\n",
              "      <th>31</th>\n",
              "      <td>day_of_week_0</td>\n",
              "      <td>0.006996</td>\n",
              "    </tr>\n",
              "    <tr>\n",
              "      <th>32</th>\n",
              "      <td>day_of_week_4</td>\n",
              "      <td>0.006302</td>\n",
              "    </tr>\n",
              "    <tr>\n",
              "      <th>33</th>\n",
              "      <td>month</td>\n",
              "      <td>0.006065</td>\n",
              "    </tr>\n",
              "    <tr>\n",
              "      <th>34</th>\n",
              "      <td>marital</td>\n",
              "      <td>0.005211</td>\n",
              "    </tr>\n",
              "    <tr>\n",
              "      <th>35</th>\n",
              "      <td>marital_-1</td>\n",
              "      <td>0.005211</td>\n",
              "    </tr>\n",
              "    <tr>\n",
              "      <th>36</th>\n",
              "      <td>marital_0</td>\n",
              "      <td>0.005211</td>\n",
              "    </tr>\n",
              "    <tr>\n",
              "      <th>37</th>\n",
              "      <td>loan</td>\n",
              "      <td>0.004466</td>\n",
              "    </tr>\n",
              "    <tr>\n",
              "      <th>38</th>\n",
              "      <td>default</td>\n",
              "      <td>0.003041</td>\n",
              "    </tr>\n",
              "    <tr>\n",
              "      <th>39</th>\n",
              "      <td>job_-1</td>\n",
              "      <td>0.000151</td>\n",
              "    </tr>\n",
              "    <tr>\n",
              "      <th>40</th>\n",
              "      <td>job</td>\n",
              "      <td>0.000151</td>\n",
              "    </tr>\n",
              "    <tr>\n",
              "      <th>41</th>\n",
              "      <td>job_0</td>\n",
              "      <td>0.000151</td>\n",
              "    </tr>\n",
              "  </tbody>\n",
              "</table>\n",
              "</div>\n",
              "      <button class=\"colab-df-convert\" onclick=\"convertToInteractive('df-55f477bb-00e6-4cf7-803c-4812cc0f2f1c')\"\n",
              "              title=\"Convert this dataframe to an interactive table.\"\n",
              "              style=\"display:none;\">\n",
              "        \n",
              "  <svg xmlns=\"http://www.w3.org/2000/svg\" height=\"24px\"viewBox=\"0 0 24 24\"\n",
              "       width=\"24px\">\n",
              "    <path d=\"M0 0h24v24H0V0z\" fill=\"none\"/>\n",
              "    <path d=\"M18.56 5.44l.94 2.06.94-2.06 2.06-.94-2.06-.94-.94-2.06-.94 2.06-2.06.94zm-11 1L8.5 8.5l.94-2.06 2.06-.94-2.06-.94L8.5 2.5l-.94 2.06-2.06.94zm10 10l.94 2.06.94-2.06 2.06-.94-2.06-.94-.94-2.06-.94 2.06-2.06.94z\"/><path d=\"M17.41 7.96l-1.37-1.37c-.4-.4-.92-.59-1.43-.59-.52 0-1.04.2-1.43.59L10.3 9.45l-7.72 7.72c-.78.78-.78 2.05 0 2.83L4 21.41c.39.39.9.59 1.41.59.51 0 1.02-.2 1.41-.59l7.78-7.78 2.81-2.81c.8-.78.8-2.07 0-2.86zM5.41 20L4 18.59l7.72-7.72 1.47 1.35L5.41 20z\"/>\n",
              "  </svg>\n",
              "      </button>\n",
              "      \n",
              "  <style>\n",
              "    .colab-df-container {\n",
              "      display:flex;\n",
              "      flex-wrap:wrap;\n",
              "      gap: 12px;\n",
              "    }\n",
              "\n",
              "    .colab-df-convert {\n",
              "      background-color: #E8F0FE;\n",
              "      border: none;\n",
              "      border-radius: 50%;\n",
              "      cursor: pointer;\n",
              "      display: none;\n",
              "      fill: #1967D2;\n",
              "      height: 32px;\n",
              "      padding: 0 0 0 0;\n",
              "      width: 32px;\n",
              "    }\n",
              "\n",
              "    .colab-df-convert:hover {\n",
              "      background-color: #E2EBFA;\n",
              "      box-shadow: 0px 1px 2px rgba(60, 64, 67, 0.3), 0px 1px 3px 1px rgba(60, 64, 67, 0.15);\n",
              "      fill: #174EA6;\n",
              "    }\n",
              "\n",
              "    [theme=dark] .colab-df-convert {\n",
              "      background-color: #3B4455;\n",
              "      fill: #D2E3FC;\n",
              "    }\n",
              "\n",
              "    [theme=dark] .colab-df-convert:hover {\n",
              "      background-color: #434B5C;\n",
              "      box-shadow: 0px 1px 3px 1px rgba(0, 0, 0, 0.15);\n",
              "      filter: drop-shadow(0px 1px 2px rgba(0, 0, 0, 0.3));\n",
              "      fill: #FFFFFF;\n",
              "    }\n",
              "  </style>\n",
              "\n",
              "      <script>\n",
              "        const buttonEl =\n",
              "          document.querySelector('#df-55f477bb-00e6-4cf7-803c-4812cc0f2f1c button.colab-df-convert');\n",
              "        buttonEl.style.display =\n",
              "          google.colab.kernel.accessAllowed ? 'block' : 'none';\n",
              "\n",
              "        async function convertToInteractive(key) {\n",
              "          const element = document.querySelector('#df-55f477bb-00e6-4cf7-803c-4812cc0f2f1c');\n",
              "          const dataTable =\n",
              "            await google.colab.kernel.invokeFunction('convertToInteractive',\n",
              "                                                     [key], {});\n",
              "          if (!dataTable) return;\n",
              "\n",
              "          const docLinkHtml = 'Like what you see? Visit the ' +\n",
              "            '<a target=\"_blank\" href=https://colab.research.google.com/notebooks/data_table.ipynb>data table notebook</a>'\n",
              "            + ' to learn more about interactive tables.';\n",
              "          element.innerHTML = '';\n",
              "          dataTable['output_type'] = 'display_data';\n",
              "          await google.colab.output.renderOutput(dataTable, element);\n",
              "          const docLink = document.createElement('div');\n",
              "          docLink.innerHTML = docLinkHtml;\n",
              "          element.appendChild(docLink);\n",
              "        }\n",
              "      </script>\n",
              "    </div>\n",
              "  </div>\n",
              "  "
            ]
          },
          "metadata": {},
          "execution_count": 30
        }
      ],
      "source": [
        "data_temp = pd.DataFrame(data_improv[data_improv.columns[1:]].corr()['y'][:]).abs().sort_values(by = 'y', ascending = False)\n",
        "data_temp = data_temp.reset_index()\n",
        "data_temp = data_temp.rename(columns={\"index\": \"Variable\"})\n",
        "data_temp"
      ]
    },
    {
      "cell_type": "markdown",
      "metadata": {
        "id": "oHop4AAMXvOL"
      },
      "source": [
        "#### 3. Using SequentialFeatureSelector for finding the first 15 imporatant features."
      ]
    },
    {
      "cell_type": "code",
      "execution_count": 31,
      "metadata": {
        "id": "ZrlywTIVXvOL"
      },
      "outputs": [],
      "source": [
        "sfs = SequentialFeatureSelector(LogisticRegression(), n_features_to_select=15).fit(X_train, y_train)"
      ]
    },
    {
      "cell_type": "code",
      "execution_count": 32,
      "metadata": {
        "id": "wNZG52YcXvOL",
        "outputId": "81de9495-ec87-46fa-f806-0c936b126844",
        "colab": {
          "base_uri": "https://localhost:8080/",
          "height": 0
        }
      },
      "outputs": [
        {
          "output_type": "execute_result",
          "data": {
            "text/plain": [
              "                0\n",
              "0         default\n",
              "1            loan\n",
              "2        campaign\n",
              "3           pdays\n",
              "4       euribor3m\n",
              "5       marital_0\n",
              "6           job_0\n",
              "7    education_-1\n",
              "8     education_0\n",
              "9         month_3\n",
              "10        month_5\n",
              "11        month_6\n",
              "12        month_7\n",
              "13  day_of_week_1\n",
              "14     poutcome_2"
            ],
            "text/html": [
              "\n",
              "  <div id=\"df-cc88990f-8417-4e02-bdb7-c9269baedb41\">\n",
              "    <div class=\"colab-df-container\">\n",
              "      <div>\n",
              "<style scoped>\n",
              "    .dataframe tbody tr th:only-of-type {\n",
              "        vertical-align: middle;\n",
              "    }\n",
              "\n",
              "    .dataframe tbody tr th {\n",
              "        vertical-align: top;\n",
              "    }\n",
              "\n",
              "    .dataframe thead th {\n",
              "        text-align: right;\n",
              "    }\n",
              "</style>\n",
              "<table border=\"1\" class=\"dataframe\">\n",
              "  <thead>\n",
              "    <tr style=\"text-align: right;\">\n",
              "      <th></th>\n",
              "      <th>0</th>\n",
              "    </tr>\n",
              "  </thead>\n",
              "  <tbody>\n",
              "    <tr>\n",
              "      <th>0</th>\n",
              "      <td>default</td>\n",
              "    </tr>\n",
              "    <tr>\n",
              "      <th>1</th>\n",
              "      <td>loan</td>\n",
              "    </tr>\n",
              "    <tr>\n",
              "      <th>2</th>\n",
              "      <td>campaign</td>\n",
              "    </tr>\n",
              "    <tr>\n",
              "      <th>3</th>\n",
              "      <td>pdays</td>\n",
              "    </tr>\n",
              "    <tr>\n",
              "      <th>4</th>\n",
              "      <td>euribor3m</td>\n",
              "    </tr>\n",
              "    <tr>\n",
              "      <th>5</th>\n",
              "      <td>marital_0</td>\n",
              "    </tr>\n",
              "    <tr>\n",
              "      <th>6</th>\n",
              "      <td>job_0</td>\n",
              "    </tr>\n",
              "    <tr>\n",
              "      <th>7</th>\n",
              "      <td>education_-1</td>\n",
              "    </tr>\n",
              "    <tr>\n",
              "      <th>8</th>\n",
              "      <td>education_0</td>\n",
              "    </tr>\n",
              "    <tr>\n",
              "      <th>9</th>\n",
              "      <td>month_3</td>\n",
              "    </tr>\n",
              "    <tr>\n",
              "      <th>10</th>\n",
              "      <td>month_5</td>\n",
              "    </tr>\n",
              "    <tr>\n",
              "      <th>11</th>\n",
              "      <td>month_6</td>\n",
              "    </tr>\n",
              "    <tr>\n",
              "      <th>12</th>\n",
              "      <td>month_7</td>\n",
              "    </tr>\n",
              "    <tr>\n",
              "      <th>13</th>\n",
              "      <td>day_of_week_1</td>\n",
              "    </tr>\n",
              "    <tr>\n",
              "      <th>14</th>\n",
              "      <td>poutcome_2</td>\n",
              "    </tr>\n",
              "  </tbody>\n",
              "</table>\n",
              "</div>\n",
              "      <button class=\"colab-df-convert\" onclick=\"convertToInteractive('df-cc88990f-8417-4e02-bdb7-c9269baedb41')\"\n",
              "              title=\"Convert this dataframe to an interactive table.\"\n",
              "              style=\"display:none;\">\n",
              "        \n",
              "  <svg xmlns=\"http://www.w3.org/2000/svg\" height=\"24px\"viewBox=\"0 0 24 24\"\n",
              "       width=\"24px\">\n",
              "    <path d=\"M0 0h24v24H0V0z\" fill=\"none\"/>\n",
              "    <path d=\"M18.56 5.44l.94 2.06.94-2.06 2.06-.94-2.06-.94-.94-2.06-.94 2.06-2.06.94zm-11 1L8.5 8.5l.94-2.06 2.06-.94-2.06-.94L8.5 2.5l-.94 2.06-2.06.94zm10 10l.94 2.06.94-2.06 2.06-.94-2.06-.94-.94-2.06-.94 2.06-2.06.94z\"/><path d=\"M17.41 7.96l-1.37-1.37c-.4-.4-.92-.59-1.43-.59-.52 0-1.04.2-1.43.59L10.3 9.45l-7.72 7.72c-.78.78-.78 2.05 0 2.83L4 21.41c.39.39.9.59 1.41.59.51 0 1.02-.2 1.41-.59l7.78-7.78 2.81-2.81c.8-.78.8-2.07 0-2.86zM5.41 20L4 18.59l7.72-7.72 1.47 1.35L5.41 20z\"/>\n",
              "  </svg>\n",
              "      </button>\n",
              "      \n",
              "  <style>\n",
              "    .colab-df-container {\n",
              "      display:flex;\n",
              "      flex-wrap:wrap;\n",
              "      gap: 12px;\n",
              "    }\n",
              "\n",
              "    .colab-df-convert {\n",
              "      background-color: #E8F0FE;\n",
              "      border: none;\n",
              "      border-radius: 50%;\n",
              "      cursor: pointer;\n",
              "      display: none;\n",
              "      fill: #1967D2;\n",
              "      height: 32px;\n",
              "      padding: 0 0 0 0;\n",
              "      width: 32px;\n",
              "    }\n",
              "\n",
              "    .colab-df-convert:hover {\n",
              "      background-color: #E2EBFA;\n",
              "      box-shadow: 0px 1px 2px rgba(60, 64, 67, 0.3), 0px 1px 3px 1px rgba(60, 64, 67, 0.15);\n",
              "      fill: #174EA6;\n",
              "    }\n",
              "\n",
              "    [theme=dark] .colab-df-convert {\n",
              "      background-color: #3B4455;\n",
              "      fill: #D2E3FC;\n",
              "    }\n",
              "\n",
              "    [theme=dark] .colab-df-convert:hover {\n",
              "      background-color: #434B5C;\n",
              "      box-shadow: 0px 1px 3px 1px rgba(0, 0, 0, 0.15);\n",
              "      filter: drop-shadow(0px 1px 2px rgba(0, 0, 0, 0.3));\n",
              "      fill: #FFFFFF;\n",
              "    }\n",
              "  </style>\n",
              "\n",
              "      <script>\n",
              "        const buttonEl =\n",
              "          document.querySelector('#df-cc88990f-8417-4e02-bdb7-c9269baedb41 button.colab-df-convert');\n",
              "        buttonEl.style.display =\n",
              "          google.colab.kernel.accessAllowed ? 'block' : 'none';\n",
              "\n",
              "        async function convertToInteractive(key) {\n",
              "          const element = document.querySelector('#df-cc88990f-8417-4e02-bdb7-c9269baedb41');\n",
              "          const dataTable =\n",
              "            await google.colab.kernel.invokeFunction('convertToInteractive',\n",
              "                                                     [key], {});\n",
              "          if (!dataTable) return;\n",
              "\n",
              "          const docLinkHtml = 'Like what you see? Visit the ' +\n",
              "            '<a target=\"_blank\" href=https://colab.research.google.com/notebooks/data_table.ipynb>data table notebook</a>'\n",
              "            + ' to learn more about interactive tables.';\n",
              "          element.innerHTML = '';\n",
              "          dataTable['output_type'] = 'display_data';\n",
              "          await google.colab.output.renderOutput(dataTable, element);\n",
              "          const docLink = document.createElement('div');\n",
              "          docLink.innerHTML = docLinkHtml;\n",
              "          element.appendChild(docLink);\n",
              "        }\n",
              "      </script>\n",
              "    </div>\n",
              "  </div>\n",
              "  "
            ]
          },
          "metadata": {},
          "execution_count": 32
        }
      ],
      "source": [
        "feature_names = X_train.columns\n",
        "data_sfs = pd.DataFrame(feature_names[sfs.get_support()])\n",
        "data_sfs"
      ]
    },
    {
      "cell_type": "markdown",
      "metadata": {
        "id": "TqUm47huXvOM"
      },
      "source": [
        "### Problem 5: Engineering Features\n",
        "\n",
        "Now that you understand your business objective, we will build a basic model to get started.  Before we can do this, we must work to encode the data.  Using just the bank information features (columns 1 - 7), prepare the features and target column for modeling with appropriate encoding and transformations."
      ]
    },
    {
      "cell_type": "markdown",
      "metadata": {
        "id": "W5JV0EvIXvOM"
      },
      "source": [
        "The features marital, job, education are encoded with dummies\n"
      ]
    },
    {
      "cell_type": "code",
      "execution_count": 33,
      "metadata": {
        "id": "N-TU2ivJXvOM"
      },
      "outputs": [],
      "source": [
        "data_initial = df[['age','marital','job','education','default','housing','loan','y']]\n",
        "\n",
        "cat_features = ['marital','job','education']\n",
        "for var in cat_features:\n",
        "    tempdf = pd.get_dummies(data_initial[var],prefix=var)\n",
        "    data_initial = pd.merge(left=data_initial,right=tempdf,left_index=True,right_index=True)"
      ]
    },
    {
      "cell_type": "code",
      "execution_count": 33,
      "metadata": {
        "id": "cYnrSGEyXvOM"
      },
      "outputs": [],
      "source": [
        ""
      ]
    },
    {
      "cell_type": "code",
      "execution_count": 33,
      "metadata": {
        "id": "4NhKjgnEXvOM"
      },
      "outputs": [],
      "source": [
        ""
      ]
    },
    {
      "cell_type": "markdown",
      "metadata": {
        "id": "09iU8Kv1XvON"
      },
      "source": [
        "### Problem 6: Train/Test Split\n",
        "\n",
        "With your data prepared, split it into a train and test set."
      ]
    },
    {
      "cell_type": "code",
      "execution_count": 34,
      "metadata": {
        "id": "zcKlMkW4XvON"
      },
      "outputs": [],
      "source": [
        "X = data_initial.copy()\n",
        "X.drop(columns = ['marital','job','education','y'],inplace=True)\n",
        "y = data_initial['y']\n",
        "X_train,X_test,y_train,y_test = train_test_split(X,y, test_size = 0.3, random_state = 42)"
      ]
    },
    {
      "cell_type": "code",
      "execution_count": 34,
      "metadata": {
        "id": "1MBnR2XBXvON"
      },
      "outputs": [],
      "source": [
        ""
      ]
    },
    {
      "cell_type": "code",
      "execution_count": 34,
      "metadata": {
        "id": "5GNbcoRxXvON"
      },
      "outputs": [],
      "source": [
        ""
      ]
    },
    {
      "cell_type": "markdown",
      "metadata": {
        "id": "uMk_PrvAXvON"
      },
      "source": [
        "### Problem 7: A Baseline Model\n",
        "\n",
        "Before we build our first model, we want to establish a baseline.  What is the baseline performance that our classifier should aim to beat?"
      ]
    },
    {
      "cell_type": "markdown",
      "metadata": {
        "id": "tWMrBV_rXvON"
      },
      "source": [
        "#### Since the dataset is imbalanced, measuring accuracy will not help identifying the best model.\n",
        "In the bank telemarketing we do not want to miss the positive prediction, recall would be the baseline performance metrics this will focus mainly on."
      ]
    },
    {
      "cell_type": "code",
      "execution_count": 34,
      "metadata": {
        "id": "K36QvA7qXvOO"
      },
      "outputs": [],
      "source": [
        ""
      ]
    },
    {
      "cell_type": "code",
      "execution_count": 34,
      "metadata": {
        "id": "iv1AKtIKXvOO"
      },
      "outputs": [],
      "source": [
        ""
      ]
    },
    {
      "cell_type": "markdown",
      "metadata": {
        "id": "uvZIjZPLXvOO"
      },
      "source": [
        "### Problem 8: A Simple Model\n",
        "\n",
        "Use Logistic Regression to build a basic model on your data.  "
      ]
    },
    {
      "cell_type": "code",
      "execution_count": 35,
      "metadata": {
        "id": "2jmhbzaqXvOO"
      },
      "outputs": [],
      "source": [
        "log_model = LogisticRegression().fit(X_train, y_train)\n"
      ]
    },
    {
      "cell_type": "code",
      "execution_count": 36,
      "metadata": {
        "id": "bLH4j-hEXvOO",
        "outputId": "51d20509-6f3c-4a7a-abad-f3fefd228b74",
        "colab": {
          "base_uri": "https://localhost:8080/"
        }
      },
      "outputs": [
        {
          "output_type": "stream",
          "name": "stdout",
          "text": [
            "Accuracy:  0.8875940762320952\n",
            "Precision:  0.0\n",
            "Recall:  0.0\n"
          ]
        }
      ],
      "source": [
        "preds = log_model.predict(X_test)\n",
        "\n",
        "print(\"Accuracy: \",accuracy_score(y_test, preds))\n",
        "print(\"Precision: \",precision_score(y_test, preds))\n",
        "print(\"Recall: \",recall_score(y_test, preds))"
      ]
    },
    {
      "cell_type": "markdown",
      "metadata": {
        "id": "bV3nDD3nXvOO"
      },
      "source": [
        "### Problem 9: Score the Model\n",
        "\n",
        "What is the accuracy of your model?"
      ]
    },
    {
      "cell_type": "markdown",
      "metadata": {
        "id": "WfcIdMixXvOP"
      },
      "source": [
        "#### The accuracy of your model is 0.8875940762320952"
      ]
    },
    {
      "cell_type": "markdown",
      "metadata": {
        "id": "NZ2Xm1S3XvOP"
      },
      "source": [
        "### Problem 10: Model Comparisons\n",
        "\n",
        "Now, we aim to compare the performance of the Logistic Regression model to our KNN algorithm, Decision Tree, and SVM models.  Using the default settings for each of the models, fit and score each.  Also, be sure to compare the fit time of each of the models.  Present your findings in a `DataFrame` similar to that below:\n",
        "\n",
        "| Model | Train Time | Train Accuracy | Test Accuracy |\n",
        "| ----- | ---------- | -------------  | -----------   |\n",
        "|     |    |.     |.     |"
      ]
    },
    {
      "cell_type": "code",
      "execution_count": 37,
      "metadata": {
        "id": "VarYpfIlXvOP",
        "outputId": "960ac313-2c9b-49ed-9b61-1eb0aa3e47f3",
        "colab": {
          "base_uri": "https://localhost:8080/",
          "height": 175
        }
      },
      "outputs": [
        {
          "output_type": "execute_result",
          "data": {
            "text/plain": [
              "      Model  Train Time  Train Accuracy  Test Accuracy  Train Score  \\\n",
              "0    LogReg    0.480584        0.887239       0.887594     0.887239   \n",
              "1       KNN    0.063557        0.889147       0.886056     0.889147   \n",
              "2  Decision    0.023468        0.891748       0.885733     0.891748   \n",
              "3       SVM   10.808969        0.887239       0.887594     0.887239   \n",
              "\n",
              "   Test Score  Test Recall  \n",
              "0    0.887594     0.000000  \n",
              "1    0.886056     0.034557  \n",
              "2    0.885733     0.033117  \n",
              "3    0.887594     0.000000  "
            ],
            "text/html": [
              "\n",
              "  <div id=\"df-3b0fafb0-0d7e-4e2e-b526-4072bcc73e61\">\n",
              "    <div class=\"colab-df-container\">\n",
              "      <div>\n",
              "<style scoped>\n",
              "    .dataframe tbody tr th:only-of-type {\n",
              "        vertical-align: middle;\n",
              "    }\n",
              "\n",
              "    .dataframe tbody tr th {\n",
              "        vertical-align: top;\n",
              "    }\n",
              "\n",
              "    .dataframe thead th {\n",
              "        text-align: right;\n",
              "    }\n",
              "</style>\n",
              "<table border=\"1\" class=\"dataframe\">\n",
              "  <thead>\n",
              "    <tr style=\"text-align: right;\">\n",
              "      <th></th>\n",
              "      <th>Model</th>\n",
              "      <th>Train Time</th>\n",
              "      <th>Train Accuracy</th>\n",
              "      <th>Test Accuracy</th>\n",
              "      <th>Train Score</th>\n",
              "      <th>Test Score</th>\n",
              "      <th>Test Recall</th>\n",
              "    </tr>\n",
              "  </thead>\n",
              "  <tbody>\n",
              "    <tr>\n",
              "      <th>0</th>\n",
              "      <td>LogReg</td>\n",
              "      <td>0.480584</td>\n",
              "      <td>0.887239</td>\n",
              "      <td>0.887594</td>\n",
              "      <td>0.887239</td>\n",
              "      <td>0.887594</td>\n",
              "      <td>0.000000</td>\n",
              "    </tr>\n",
              "    <tr>\n",
              "      <th>1</th>\n",
              "      <td>KNN</td>\n",
              "      <td>0.063557</td>\n",
              "      <td>0.889147</td>\n",
              "      <td>0.886056</td>\n",
              "      <td>0.889147</td>\n",
              "      <td>0.886056</td>\n",
              "      <td>0.034557</td>\n",
              "    </tr>\n",
              "    <tr>\n",
              "      <th>2</th>\n",
              "      <td>Decision</td>\n",
              "      <td>0.023468</td>\n",
              "      <td>0.891748</td>\n",
              "      <td>0.885733</td>\n",
              "      <td>0.891748</td>\n",
              "      <td>0.885733</td>\n",
              "      <td>0.033117</td>\n",
              "    </tr>\n",
              "    <tr>\n",
              "      <th>3</th>\n",
              "      <td>SVM</td>\n",
              "      <td>10.808969</td>\n",
              "      <td>0.887239</td>\n",
              "      <td>0.887594</td>\n",
              "      <td>0.887239</td>\n",
              "      <td>0.887594</td>\n",
              "      <td>0.000000</td>\n",
              "    </tr>\n",
              "  </tbody>\n",
              "</table>\n",
              "</div>\n",
              "      <button class=\"colab-df-convert\" onclick=\"convertToInteractive('df-3b0fafb0-0d7e-4e2e-b526-4072bcc73e61')\"\n",
              "              title=\"Convert this dataframe to an interactive table.\"\n",
              "              style=\"display:none;\">\n",
              "        \n",
              "  <svg xmlns=\"http://www.w3.org/2000/svg\" height=\"24px\"viewBox=\"0 0 24 24\"\n",
              "       width=\"24px\">\n",
              "    <path d=\"M0 0h24v24H0V0z\" fill=\"none\"/>\n",
              "    <path d=\"M18.56 5.44l.94 2.06.94-2.06 2.06-.94-2.06-.94-.94-2.06-.94 2.06-2.06.94zm-11 1L8.5 8.5l.94-2.06 2.06-.94-2.06-.94L8.5 2.5l-.94 2.06-2.06.94zm10 10l.94 2.06.94-2.06 2.06-.94-2.06-.94-.94-2.06-.94 2.06-2.06.94z\"/><path d=\"M17.41 7.96l-1.37-1.37c-.4-.4-.92-.59-1.43-.59-.52 0-1.04.2-1.43.59L10.3 9.45l-7.72 7.72c-.78.78-.78 2.05 0 2.83L4 21.41c.39.39.9.59 1.41.59.51 0 1.02-.2 1.41-.59l7.78-7.78 2.81-2.81c.8-.78.8-2.07 0-2.86zM5.41 20L4 18.59l7.72-7.72 1.47 1.35L5.41 20z\"/>\n",
              "  </svg>\n",
              "      </button>\n",
              "      \n",
              "  <style>\n",
              "    .colab-df-container {\n",
              "      display:flex;\n",
              "      flex-wrap:wrap;\n",
              "      gap: 12px;\n",
              "    }\n",
              "\n",
              "    .colab-df-convert {\n",
              "      background-color: #E8F0FE;\n",
              "      border: none;\n",
              "      border-radius: 50%;\n",
              "      cursor: pointer;\n",
              "      display: none;\n",
              "      fill: #1967D2;\n",
              "      height: 32px;\n",
              "      padding: 0 0 0 0;\n",
              "      width: 32px;\n",
              "    }\n",
              "\n",
              "    .colab-df-convert:hover {\n",
              "      background-color: #E2EBFA;\n",
              "      box-shadow: 0px 1px 2px rgba(60, 64, 67, 0.3), 0px 1px 3px 1px rgba(60, 64, 67, 0.15);\n",
              "      fill: #174EA6;\n",
              "    }\n",
              "\n",
              "    [theme=dark] .colab-df-convert {\n",
              "      background-color: #3B4455;\n",
              "      fill: #D2E3FC;\n",
              "    }\n",
              "\n",
              "    [theme=dark] .colab-df-convert:hover {\n",
              "      background-color: #434B5C;\n",
              "      box-shadow: 0px 1px 3px 1px rgba(0, 0, 0, 0.15);\n",
              "      filter: drop-shadow(0px 1px 2px rgba(0, 0, 0, 0.3));\n",
              "      fill: #FFFFFF;\n",
              "    }\n",
              "  </style>\n",
              "\n",
              "      <script>\n",
              "        const buttonEl =\n",
              "          document.querySelector('#df-3b0fafb0-0d7e-4e2e-b526-4072bcc73e61 button.colab-df-convert');\n",
              "        buttonEl.style.display =\n",
              "          google.colab.kernel.accessAllowed ? 'block' : 'none';\n",
              "\n",
              "        async function convertToInteractive(key) {\n",
              "          const element = document.querySelector('#df-3b0fafb0-0d7e-4e2e-b526-4072bcc73e61');\n",
              "          const dataTable =\n",
              "            await google.colab.kernel.invokeFunction('convertToInteractive',\n",
              "                                                     [key], {});\n",
              "          if (!dataTable) return;\n",
              "\n",
              "          const docLinkHtml = 'Like what you see? Visit the ' +\n",
              "            '<a target=\"_blank\" href=https://colab.research.google.com/notebooks/data_table.ipynb>data table notebook</a>'\n",
              "            + ' to learn more about interactive tables.';\n",
              "          element.innerHTML = '';\n",
              "          dataTable['output_type'] = 'display_data';\n",
              "          await google.colab.output.renderOutput(dataTable, element);\n",
              "          const docLink = document.createElement('div');\n",
              "          docLink.innerHTML = docLinkHtml;\n",
              "          element.appendChild(docLink);\n",
              "        }\n",
              "      </script>\n",
              "    </div>\n",
              "  </div>\n",
              "  "
            ]
          },
          "metadata": {},
          "execution_count": 37
        }
      ],
      "source": [
        "pipelines = []\n",
        "\n",
        "pipelines.append(('LogReg', LogisticRegression()))\n",
        "pipelines.append(('KNN', KNeighborsClassifier()))\n",
        "pipelines.append(('Decision', DecisionTreeClassifier()))\n",
        "pipelines.append(('SVM', SVC()))\n",
        "\n",
        "model_name = []\n",
        "time_execution = []\n",
        "test_accuracy = []\n",
        "train_accuracy = []\n",
        "test_score = []\n",
        "train_score = []\n",
        "test_recall = []\n",
        "\n",
        "for pipe ,model in pipelines:\n",
        "    model_name.append(pipe)\n",
        "    start = time.time()\n",
        "    mod = model.fit(X_train ,y_train)\n",
        "    time_execution.append(time.time()- start)\n",
        "    train_score.append(mod.score(X_train, y_train))\n",
        "    test_score.append(mod.score(X_test, y_test))\n",
        "    test_accuracy.append(accuracy_score(y_test, mod.predict(X_test)))\n",
        "    train_accuracy.append(accuracy_score(y_train, mod.predict(X_train)))\n",
        "    test_recall.append(recall_score(y_test, mod.predict(X_test)))\n",
        "    \n",
        "d = {'Model':model_name,'Train Time':time_execution,'Train Accuracy':train_accuracy,'Test Accuracy':test_accuracy,'Train Score':train_score,'Test Score':test_score,'Test Recall':test_recall}\n",
        "performance_matrix = pd.DataFrame(d)\n",
        "\n",
        "performance_matrix"
      ]
    },
    {
      "cell_type": "code",
      "execution_count": 37,
      "metadata": {
        "id": "CT6eBQnQXvOP"
      },
      "outputs": [],
      "source": [
        ""
      ]
    },
    {
      "cell_type": "code",
      "execution_count": 37,
      "metadata": {
        "id": "KTMnkpeFXvOP"
      },
      "outputs": [],
      "source": [
        ""
      ]
    },
    {
      "cell_type": "code",
      "execution_count": 37,
      "metadata": {
        "id": "2wzzv535XvOQ"
      },
      "outputs": [],
      "source": [
        ""
      ]
    },
    {
      "cell_type": "markdown",
      "metadata": {
        "id": "RfAkwPpKXvOQ"
      },
      "source": [
        "### Problem 11: Improving the Model\n",
        "\n",
        "Now that we have some basic models on the board, we want to try to improve these.  Below, we list a few things to explore in this pursuit.\n",
        "\n",
        "- More feature engineering and exploration.  For example, should we keep the gender feature?  Why or why not?\n",
        "- Hyperparameter tuning and grid search.  All of our models have additional hyperparameters to tune and explore.  For example the number of neighbors in KNN or the maximum depth of a Decision Tree.  \n",
        "- Adjust your performance metric"
      ]
    },
    {
      "cell_type": "markdown",
      "metadata": {
        "id": "vRUEqj9WXvOQ"
      },
      "source": [
        ""
      ]
    },
    {
      "cell_type": "markdown",
      "metadata": {
        "id": "D77sJXtfXvOQ"
      },
      "source": [
        "#### All the categorical features are encoded with dummies\n",
        "\n",
        "#### From the outcome of Understanding the Task section, \n",
        "\n",
        "The features - age, loan, contact, day_of_week are dropped and other categorial features are hot coded\n",
        "\n"
      ]
    },
    {
      "cell_type": "code",
      "execution_count": 38,
      "metadata": {
        "id": "mc-jD13BXvOR"
      },
      "outputs": [],
      "source": [
        "data_improv = df\n",
        "\n",
        "cat_features = ['marital','job','education','month','poutcome']\n",
        "for var in cat_features:\n",
        "    tempdf = pd.get_dummies(data_improv[var],prefix=var)\n",
        "    data_improv = pd.merge(left=data_improv,right=tempdf,left_index=True,right_index=True)"
      ]
    },
    {
      "cell_type": "code",
      "execution_count": 39,
      "metadata": {
        "id": "pfmlMDviXvOR",
        "outputId": "b65e3de8-e99a-4f68-ef78-7bd51472c251",
        "colab": {
          "base_uri": "https://localhost:8080/"
        }
      },
      "outputs": [
        {
          "output_type": "stream",
          "name": "stdout",
          "text": [
            "<class 'pandas.core.frame.DataFrame'>\n",
            "RangeIndex: 41188 entries, 0 to 41187\n",
            "Data columns (total 20 columns):\n",
            " #   Column          Non-Null Count  Dtype   \n",
            "---  ------          --------------  -----   \n",
            " 0   age             41188 non-null  int64   \n",
            " 1   job             41188 non-null  int8    \n",
            " 2   marital         41188 non-null  int8    \n",
            " 3   education       41188 non-null  int8    \n",
            " 4   default         41188 non-null  int64   \n",
            " 5   housing         41188 non-null  int64   \n",
            " 6   loan            41188 non-null  int64   \n",
            " 7   contact         41188 non-null  int64   \n",
            " 8   month           41188 non-null  int8    \n",
            " 9   day_of_week     41188 non-null  int8    \n",
            " 10  campaign        41188 non-null  int64   \n",
            " 11  pdays           41188 non-null  int64   \n",
            " 12  previous        41188 non-null  int64   \n",
            " 13  poutcome        41188 non-null  int8    \n",
            " 14  cons.price.idx  41188 non-null  float64 \n",
            " 15  cons.conf.idx   41188 non-null  float64 \n",
            " 16  euribor3m       41188 non-null  float64 \n",
            " 17  nr.employed     41188 non-null  float64 \n",
            " 18  y               41188 non-null  int64   \n",
            " 19  age_range       41188 non-null  category\n",
            "dtypes: category(1), float64(4), int64(9), int8(6)\n",
            "memory usage: 4.4 MB\n"
          ]
        }
      ],
      "source": [
        "df.info()"
      ]
    },
    {
      "cell_type": "code",
      "execution_count": 40,
      "metadata": {
        "id": "CIznGf4HXvOS"
      },
      "outputs": [],
      "source": [
        "X = data_improv.copy()\n",
        "X.drop(columns = ['age','loan','contact','marital','job','education','month','day_of_week','poutcome','age_range','y'],inplace=True)\n",
        "y = data_improv['y']\n",
        "X_train,X_test,y_train,y_test = train_test_split(X,y, test_size = 0.3, random_state = 42)"
      ]
    },
    {
      "cell_type": "markdown",
      "metadata": {
        "id": "o_V6T_DaXvOS"
      },
      "source": [
        "#### Hyperparameter tuning and grid search. All of our models have additional hyperparameters to tune and explore. For example the number of neighbors in KNN or the maximum depth of a Decision Tree."
      ]
    },
    {
      "cell_type": "code",
      "execution_count": 41,
      "metadata": {
        "id": "SBj8yzqeXvOS"
      },
      "outputs": [],
      "source": [
        "model_name = []\n",
        "time_execution = []\n",
        "test_accuracy = []\n",
        "test_recall = []\n",
        "test_precision = []\n",
        "best_param = []"
      ]
    },
    {
      "cell_type": "markdown",
      "metadata": {
        "id": "dci1HRvEXvOT"
      },
      "source": [
        "LogisticRegression"
      ]
    },
    {
      "cell_type": "code",
      "execution_count": 42,
      "metadata": {
        "id": "Ecq5HpCIXvOT"
      },
      "outputs": [],
      "source": [
        "pipe = Pipeline([('model', LogisticRegression())])\n",
        "params = [{'model__penalty': ['l1', 'l2'],\n",
        "           'model__C': np.logspace(0, 4, 10)}]\n",
        "start = time.time()\n",
        "gs_knn = GridSearchCV(pipe,param_grid=params).fit(X_train, y_train)\n",
        "y_predict = gs_knn.predict(X_test)\n",
        "\n",
        "model_name.append('LogisticRegression()')\n",
        "test_accuracy.append(accuracy_score(y_test,y_predict))\n",
        "test_recall.append(recall_score(y_test,y_predict))\n",
        "test_precision.append(precision_score(y_test,y_predict))\n",
        "best_param.append(gs_knn.best_params_)\n",
        "time_execution.append(time.time() - start)"
      ]
    },
    {
      "cell_type": "code",
      "execution_count": 42,
      "metadata": {
        "id": "wVjoiunPXvOT"
      },
      "outputs": [],
      "source": [
        ""
      ]
    },
    {
      "cell_type": "markdown",
      "metadata": {
        "id": "zRhXtp65XvOT"
      },
      "source": [
        "KNeighborsClassifier"
      ]
    },
    {
      "cell_type": "code",
      "execution_count": 43,
      "metadata": {
        "id": "KImDsRsxXvOT"
      },
      "outputs": [],
      "source": [
        "pipe = Pipeline([('model', KNeighborsClassifier())])\n",
        "params = [{'model__n_neighbors': [3, 5, 7, 9],\n",
        "         'model__weights': ['uniform', 'distance'],\n",
        "         'model__leaf_size': [15, 20]}]\n",
        "start = time.time()\n",
        "gs_knn = GridSearchCV(pipe,param_grid=params).fit(X_train, y_train)\n",
        "y_predict = gs_knn.predict(X_test)\n",
        "\n",
        "model_name.append('KNeighborsClassifier()')\n",
        "test_accuracy.append(accuracy_score(y_test,y_predict))\n",
        "test_recall.append(recall_score(y_test,y_predict))\n",
        "test_precision.append(precision_score(y_test,y_predict))\n",
        "best_param.append(gs_knn.best_params_)\n",
        "time_execution.append(time.time() - start)"
      ]
    },
    {
      "cell_type": "code",
      "execution_count": 44,
      "metadata": {
        "id": "Q6BLopZMXvOU",
        "outputId": "c65e5cfd-46cd-42d4-a61b-78b4535b109c",
        "colab": {
          "base_uri": "https://localhost:8080/"
        }
      },
      "outputs": [
        {
          "output_type": "execute_result",
          "data": {
            "text/plain": [
              "array([[10680,   288],\n",
              "       [ 1010,   379]])"
            ]
          },
          "metadata": {},
          "execution_count": 44
        }
      ],
      "source": [
        "confusion_matrix(y_test, y_predict)"
      ]
    },
    {
      "cell_type": "code",
      "execution_count": 44,
      "metadata": {
        "id": "QzxuJetEXvOU"
      },
      "outputs": [],
      "source": [
        ""
      ]
    },
    {
      "cell_type": "markdown",
      "metadata": {
        "id": "JqZ31gS2XvOU"
      },
      "source": [
        "DecisionTreeClassifier"
      ]
    },
    {
      "cell_type": "code",
      "execution_count": 45,
      "metadata": {
        "id": "Nb3zY3ThXvOU"
      },
      "outputs": [],
      "source": [
        "pipe = Pipeline([('model', DecisionTreeClassifier())])\n",
        "params = [{'model__min_impurity_decrease': [0.01, 0.02, 0.03, 0.05],\n",
        "           'model__max_depth': [2, 5, 10],\n",
        "           'model__min_samples_split': [0.1, 0.2, 0.05]}]\n",
        "start = time.time()\n",
        "gs_knn = GridSearchCV(pipe,param_grid=params).fit(X_train, y_train)\n",
        "y_predict = gs_knn.predict(X_test)\n",
        "\n",
        "model_name.append('DecisionTreeClassifier()')\n",
        "test_accuracy.append(accuracy_score(y_test,y_predict))\n",
        "test_recall.append(recall_score(y_test,y_predict))\n",
        "test_precision.append(precision_score(y_test,y_predict))\n",
        "best_param.append(gs_knn.best_params_)\n",
        "time_execution.append(time.time() - start)"
      ]
    },
    {
      "cell_type": "code",
      "execution_count": 46,
      "metadata": {
        "id": "XU8vBSJpXvOU",
        "outputId": "3c89b34b-23a2-4a8e-bb07-04b781b90a6c",
        "colab": {
          "base_uri": "https://localhost:8080/"
        }
      },
      "outputs": [
        {
          "output_type": "execute_result",
          "data": {
            "text/plain": [
              "array([[10968,     0],\n",
              "       [ 1389,     0]])"
            ]
          },
          "metadata": {},
          "execution_count": 46
        }
      ],
      "source": [
        "confusion_matrix(y_test, y_predict)"
      ]
    },
    {
      "cell_type": "code",
      "execution_count": 46,
      "metadata": {
        "id": "hYWu_wITXvOU"
      },
      "outputs": [],
      "source": [
        ""
      ]
    },
    {
      "cell_type": "markdown",
      "metadata": {
        "id": "rnNZWFRCXvOU"
      },
      "source": [
        "SVC"
      ]
    },
    {
      "cell_type": "code",
      "source": [
        "df = pd.read_csv('/content/sample_data/bank-additional.csv', sep = ';')\n",
        "df['age'].value_counts().tail(20)\n",
        "\n",
        "bins = [15, 20, 25, 30, 35, 40, 45, 50, 55, 60, 65, 70, 75, 100]\n",
        "groups = ['Below 20', '20-25', '25-30', '30-35', '35-40', '40-45', '45-50', '50-55', '55-60', '60-65', '65-70', '70-75', '75+']\n",
        "\n",
        "df['age_range'] = pd.cut(df['age'],bins,labels = groups)\n",
        "\n",
        "data = df\n",
        "df['y'] = df.y.map(dict(yes=1, no=0))\n",
        "df['default'] = df.default.map(dict(yes=1, no=0, unknown=0))\n",
        "df['housing'] = df.housing.map(dict(yes=1, no=0, unknown=0))\n",
        "df['loan'] = df.loan.map(dict(yes=1, no=0, unknown=0))\n",
        "df['contact'] = df.contact.map(dict(telephone=1, cellular=0))\n",
        "\n",
        "df['job'] = df.job.map(dict(unknown='unemployed'))\n",
        "df['marital'] = df.marital.map(dict(unknown='single'))\n",
        "df['education'] = df.education.map(dict(unknown='illiterate'))\n",
        "\n",
        "data_improv = df\n",
        "\n",
        "cat_features = ['marital','job','education','month','poutcome']\n",
        "for var in cat_features:\n",
        "    tempdf = pd.get_dummies(data_improv[var],prefix=var)\n",
        "    data_improv = pd.merge(left=data_improv,right=tempdf,left_index=True,right_index=True)\n",
        "    \n",
        "X = data_improv.copy()\n",
        "X.drop(columns = ['age','loan','contact','marital','job','education','month','day_of_week','poutcome','age_range','y'],inplace=True)\n",
        "y = data_improv['y']\n",
        "X_train,X_test,y_train,y_test = train_test_split(X,y, test_size = 0.3, random_state = 42)"
      ],
      "metadata": {
        "id": "iQ1U-rAPicGm"
      },
      "execution_count": 47,
      "outputs": []
    },
    {
      "cell_type": "code",
      "execution_count": 48,
      "metadata": {
        "id": "MsGt1tTCXvOV"
      },
      "outputs": [],
      "source": [
        "pipe = Pipeline([('model', SVC())])\n",
        "params = [{'model__kernel': ['rbf', 'linear'],\n",
        "           'model__gamma': [0.1, 1.0]}]\n",
        "start = time.time()\n",
        "gs_knn = GridSearchCV(pipe,param_grid=params).fit(X_train, y_train)\n",
        "y_predict = gs_knn.predict(X_test)\n",
        "\n",
        "model_name.append('SVC()')\n",
        "test_accuracy.append(accuracy_score(y_test,y_predict))\n",
        "test_recall.append(recall_score(y_test,y_predict))\n",
        "test_precision.append(precision_score(y_test,y_predict))\n",
        "best_param.append(gs_knn.best_params_)\n",
        "time_execution.append(time.time() - start)"
      ]
    },
    {
      "cell_type": "code",
      "execution_count": 49,
      "metadata": {
        "id": "v255P-UvXvOX",
        "colab": {
          "base_uri": "https://localhost:8080/"
        },
        "outputId": "2a2a4193-3a09-44d7-b004-2d52dea07664"
      },
      "outputs": [
        {
          "output_type": "execute_result",
          "data": {
            "text/plain": [
              "array([[1076,   29],\n",
              "       [  76,   55]])"
            ]
          },
          "metadata": {},
          "execution_count": 49
        }
      ],
      "source": [
        "confusion_matrix(y_test, y_predict)"
      ]
    },
    {
      "cell_type": "code",
      "source": [
        "fig, ax = plt.subplots(figsize=(12, 5))\n",
        "x=[1,2,3,4]\n",
        "plt.plot(x,test_accuracy,marker=\"o\")\n",
        "plt.xlabel(\"Model\",fontsize=20)\n",
        "plt.xticks(x,model_name)\n",
        "plt.title(\"Accuracy plot\")"
      ],
      "metadata": {
        "colab": {
          "base_uri": "https://localhost:8080/",
          "height": 376
        },
        "id": "xh9x3kKHrT8p",
        "outputId": "76551f74-6bf5-4a1c-d315-33097bcb4a04"
      },
      "execution_count": 80,
      "outputs": [
        {
          "output_type": "execute_result",
          "data": {
            "text/plain": [
              "Text(0.5, 1.0, 'Accuracy plot')"
            ]
          },
          "metadata": {},
          "execution_count": 80
        },
        {
          "output_type": "display_data",
          "data": {
            "text/plain": [
              "<Figure size 864x360 with 1 Axes>"
            ],
            "image/png": "[encoded data removed]"
          },
          "metadata": {
            "needs_background": "light"
          }
        }
      ]
    },
    {
      "cell_type": "code",
      "source": [
        "fig, ax = plt.subplots(figsize=(12, 5))\n",
        "  \n",
        "x=[1,2,3,4]  \n",
        "labels = [\"Recall\", \"Precision\"]\n",
        "\n",
        "fig.suptitle('Recall & Precision plot for Models', fontsize=20)\n",
        "\n",
        "l1 = ax.plot(x, test_recall, color=\"green\")\n",
        "l2 = ax.plot(x, test_precision, color=\"blue\")\n",
        "plt.xticks(x,model_name)\n",
        "\n",
        "ax.set_ylabel('Score', fontsize=25)\n",
        "fig.legend([l1, l2], labels=labels,loc=\"upper right\")\n",
        "plt.subplots_adjust(right=0.9)\n",
        "  \n",
        "plt.show()"
      ],
      "metadata": {
        "colab": {
          "base_uri": "https://localhost:8080/",
          "height": 358
        },
        "id": "fHnQY0HlrUB_",
        "outputId": "f7a34f8a-bb6d-4f23-d28d-882065bba763"
      },
      "execution_count": 78,
      "outputs": [
        {
          "output_type": "display_data",
          "data": {
            "text/plain": [
              "<Figure size 864x360 with 1 Axes>"
            ],
            "image/png": "[encoded data removed]"
          },
          "metadata": {
            "needs_background": "light"
          }
        }
      ]
    },
    {
      "cell_type": "code",
      "execution_count": 49,
      "metadata": {
        "id": "V93oibzrXvOX"
      },
      "outputs": [],
      "source": [
        ""
      ]
    },
    {
      "cell_type": "code",
      "execution_count": 50,
      "metadata": {
        "id": "h5-iFqkeXvOX",
        "colab": {
          "base_uri": "https://localhost:8080/",
          "height": 175
        },
        "outputId": "34152c42-e7a6-4385-eb70-49b436a16ec9"
      },
      "outputs": [
        {
          "output_type": "execute_result",
          "data": {
            "text/plain": [
              "                      Model  Execution Time  Accuracy    Recall  Precision  \\\n",
              "0      LogisticRegression()       24.651042  0.898924  0.199424   0.669082   \n",
              "1    KNeighborsClassifier()      198.567001  0.894958  0.272858   0.568216   \n",
              "2  DecisionTreeClassifier()        4.425010  0.887594  0.000000   0.000000   \n",
              "3                     SVC()       26.647332  0.915049  0.419847   0.654762   \n",
              "\n",
              "                                      Best Paramater  \n",
              "0  {'model__C': 2.7825594022071245, 'model__penal...  \n",
              "1  {'model__leaf_size': 15, 'model__n_neighbors':...  \n",
              "2  {'model__max_depth': 2, 'model__min_impurity_d...  \n",
              "3   {'model__gamma': 0.1, 'model__kernel': 'linear'}  "
            ],
            "text/html": [
              "\n",
              "  <div id=\"df-73709bff-2629-49c2-a4c2-a4ee28ccc21c\">\n",
              "    <div class=\"colab-df-container\">\n",
              "      <div>\n",
              "<style scoped>\n",
              "    .dataframe tbody tr th:only-of-type {\n",
              "        vertical-align: middle;\n",
              "    }\n",
              "\n",
              "    .dataframe tbody tr th {\n",
              "        vertical-align: top;\n",
              "    }\n",
              "\n",
              "    .dataframe thead th {\n",
              "        text-align: right;\n",
              "    }\n",
              "</style>\n",
              "<table border=\"1\" class=\"dataframe\">\n",
              "  <thead>\n",
              "    <tr style=\"text-align: right;\">\n",
              "      <th></th>\n",
              "      <th>Model</th>\n",
              "      <th>Execution Time</th>\n",
              "      <th>Accuracy</th>\n",
              "      <th>Recall</th>\n",
              "      <th>Precision</th>\n",
              "      <th>Best Paramater</th>\n",
              "    </tr>\n",
              "  </thead>\n",
              "  <tbody>\n",
              "    <tr>\n",
              "      <th>0</th>\n",
              "      <td>LogisticRegression()</td>\n",
              "      <td>24.651042</td>\n",
              "      <td>0.898924</td>\n",
              "      <td>0.199424</td>\n",
              "      <td>0.669082</td>\n",
              "      <td>{'model__C': 2.7825594022071245, 'model__penal...</td>\n",
              "    </tr>\n",
              "    <tr>\n",
              "      <th>1</th>\n",
              "      <td>KNeighborsClassifier()</td>\n",
              "      <td>198.567001</td>\n",
              "      <td>0.894958</td>\n",
              "      <td>0.272858</td>\n",
              "      <td>0.568216</td>\n",
              "      <td>{'model__leaf_size': 15, 'model__n_neighbors':...</td>\n",
              "    </tr>\n",
              "    <tr>\n",
              "      <th>2</th>\n",
              "      <td>DecisionTreeClassifier()</td>\n",
              "      <td>4.425010</td>\n",
              "      <td>0.887594</td>\n",
              "      <td>0.000000</td>\n",
              "      <td>0.000000</td>\n",
              "      <td>{'model__max_depth': 2, 'model__min_impurity_d...</td>\n",
              "    </tr>\n",
              "    <tr>\n",
              "      <th>3</th>\n",
              "      <td>SVC()</td>\n",
              "      <td>26.647332</td>\n",
              "      <td>0.915049</td>\n",
              "      <td>0.419847</td>\n",
              "      <td>0.654762</td>\n",
              "      <td>{'model__gamma': 0.1, 'model__kernel': 'linear'}</td>\n",
              "    </tr>\n",
              "  </tbody>\n",
              "</table>\n",
              "</div>\n",
              "      <button class=\"colab-df-convert\" onclick=\"convertToInteractive('df-73709bff-2629-49c2-a4c2-a4ee28ccc21c')\"\n",
              "              title=\"Convert this dataframe to an interactive table.\"\n",
              "              style=\"display:none;\">\n",
              "        \n",
              "  <svg xmlns=\"http://www.w3.org/2000/svg\" height=\"24px\"viewBox=\"0 0 24 24\"\n",
              "       width=\"24px\">\n",
              "    <path d=\"M0 0h24v24H0V0z\" fill=\"none\"/>\n",
              "    <path d=\"M18.56 5.44l.94 2.06.94-2.06 2.06-.94-2.06-.94-.94-2.06-.94 2.06-2.06.94zm-11 1L8.5 8.5l.94-2.06 2.06-.94-2.06-.94L8.5 2.5l-.94 2.06-2.06.94zm10 10l.94 2.06.94-2.06 2.06-.94-2.06-.94-.94-2.06-.94 2.06-2.06.94z\"/><path d=\"M17.41 7.96l-1.37-1.37c-.4-.4-.92-.59-1.43-.59-.52 0-1.04.2-1.43.59L10.3 9.45l-7.72 7.72c-.78.78-.78 2.05 0 2.83L4 21.41c.39.39.9.59 1.41.59.51 0 1.02-.2 1.41-.59l7.78-7.78 2.81-2.81c.8-.78.8-2.07 0-2.86zM5.41 20L4 18.59l7.72-7.72 1.47 1.35L5.41 20z\"/>\n",
              "  </svg>\n",
              "      </button>\n",
              "      \n",
              "  <style>\n",
              "    .colab-df-container {\n",
              "      display:flex;\n",
              "      flex-wrap:wrap;\n",
              "      gap: 12px;\n",
              "    }\n",
              "\n",
              "    .colab-df-convert {\n",
              "      background-color: #E8F0FE;\n",
              "      border: none;\n",
              "      border-radius: 50%;\n",
              "      cursor: pointer;\n",
              "      display: none;\n",
              "      fill: #1967D2;\n",
              "      height: 32px;\n",
              "      padding: 0 0 0 0;\n",
              "      width: 32px;\n",
              "    }\n",
              "\n",
              "    .colab-df-convert:hover {\n",
              "      background-color: #E2EBFA;\n",
              "      box-shadow: 0px 1px 2px rgba(60, 64, 67, 0.3), 0px 1px 3px 1px rgba(60, 64, 67, 0.15);\n",
              "      fill: #174EA6;\n",
              "    }\n",
              "\n",
              "    [theme=dark] .colab-df-convert {\n",
              "      background-color: #3B4455;\n",
              "      fill: #D2E3FC;\n",
              "    }\n",
              "\n",
              "    [theme=dark] .colab-df-convert:hover {\n",
              "      background-color: #434B5C;\n",
              "      box-shadow: 0px 1px 3px 1px rgba(0, 0, 0, 0.15);\n",
              "      filter: drop-shadow(0px 1px 2px rgba(0, 0, 0, 0.3));\n",
              "      fill: #FFFFFF;\n",
              "    }\n",
              "  </style>\n",
              "\n",
              "      <script>\n",
              "        const buttonEl =\n",
              "          document.querySelector('#df-73709bff-2629-49c2-a4c2-a4ee28ccc21c button.colab-df-convert');\n",
              "        buttonEl.style.display =\n",
              "          google.colab.kernel.accessAllowed ? 'block' : 'none';\n",
              "\n",
              "        async function convertToInteractive(key) {\n",
              "          const element = document.querySelector('#df-73709bff-2629-49c2-a4c2-a4ee28ccc21c');\n",
              "          const dataTable =\n",
              "            await google.colab.kernel.invokeFunction('convertToInteractive',\n",
              "                                                     [key], {});\n",
              "          if (!dataTable) return;\n",
              "\n",
              "          const docLinkHtml = 'Like what you see? Visit the ' +\n",
              "            '<a target=\"_blank\" href=https://colab.research.google.com/notebooks/data_table.ipynb>data table notebook</a>'\n",
              "            + ' to learn more about interactive tables.';\n",
              "          element.innerHTML = '';\n",
              "          dataTable['output_type'] = 'display_data';\n",
              "          await google.colab.output.renderOutput(dataTable, element);\n",
              "          const docLink = document.createElement('div');\n",
              "          docLink.innerHTML = docLinkHtml;\n",
              "          element.appendChild(docLink);\n",
              "        }\n",
              "      </script>\n",
              "    </div>\n",
              "  </div>\n",
              "  "
            ]
          },
          "metadata": {},
          "execution_count": 50
        }
      ],
      "source": [
        "d = {'Model':model_name,'Execution Time':time_execution,'Accuracy':test_accuracy,'Recall':test_recall,'Precision':test_precision,'Best Paramater':best_param}\n",
        "performance_matrix = pd.DataFrame(d)\n",
        "\n",
        "performance_matrix"
      ]
    },
    {
      "cell_type": "code",
      "source": [
        "best_param"
      ],
      "metadata": {
        "colab": {
          "base_uri": "https://localhost:8080/"
        },
        "id": "LvbMN2dFBstH",
        "outputId": "40861093-a9df-4a67-d825-0b5425a1c178"
      },
      "execution_count": 81,
      "outputs": [
        {
          "output_type": "execute_result",
          "data": {
            "text/plain": [
              "[{'model__C': 2.7825594022071245, 'model__penalty': 'l2'},\n",
              " {'model__leaf_size': 15,\n",
              "  'model__n_neighbors': 9,\n",
              "  'model__weights': 'uniform'},\n",
              " {'model__max_depth': 2,\n",
              "  'model__min_impurity_decrease': 0.01,\n",
              "  'model__min_samples_split': 0.1},\n",
              " {'model__gamma': 0.1, 'model__kernel': 'linear'}]"
            ]
          },
          "metadata": {},
          "execution_count": 81
        }
      ]
    },
    {
      "cell_type": "code",
      "execution_count": 50,
      "metadata": {
        "id": "FphDLDskXvOY"
      },
      "outputs": [],
      "source": [
        ""
      ]
    },
    {
      "cell_type": "markdown",
      "metadata": {
        "id": "BUkju8ybXvOY"
      },
      "source": [
        "#### To look which model is returned as best model with pipelining multiple model with hypertuning parameters with Cross validation"
      ]
    },
    {
      "cell_type": "code",
      "execution_count": 51,
      "metadata": {
        "id": "4-LvL6zQXvOY"
      },
      "outputs": [],
      "source": [
        "pipe = Pipeline([('classifier', LogisticRegression())])\n",
        "\n",
        "search_space = [{'classifier': [LogisticRegression()],\n",
        "                 'classifier__penalty': ['l1', 'l2'],\n",
        "                 'classifier__C': np.logspace(0, 4, 10)},\n",
        "                {'classifier': [DecisionTreeClassifier()],\n",
        "                 'classifier__min_impurity_decrease': [0.01, 0.02, 0.03, 0.05],\n",
        "                 'classifier__max_depth': [2, 5, 10],\n",
        "                 'classifier__min_samples_split': [0.1, 0.2, 0.05]},\n",
        "                {'classifier': [KNeighborsClassifier()],\n",
        "                 'classifier__n_neighbors': range(1, 20, 2)},\n",
        "                {'classifier': [SVC()],\n",
        "                 'classifier__kernel': ['rbf', 'linear'],\n",
        "                 'classifier__gamma': [0.1, 1.0]}]\n",
        "\n",
        "best_model = GridSearchCV(pipe, search_space, scoring = 'accuracy', cv=2, verbose=0).fit(X, y)"
      ]
    },
    {
      "cell_type": "code",
      "execution_count": 52,
      "metadata": {
        "id": "ms99uAHFXvOY",
        "colab": {
          "base_uri": "https://localhost:8080/"
        },
        "outputId": "8bcbfb5d-a6e4-4b6b-fc3d-553f96b203f8"
      },
      "outputs": [
        {
          "output_type": "execute_result",
          "data": {
            "text/plain": [
              "{'classifier': LogisticRegression(),\n",
              " 'classifier__C': 1.0,\n",
              " 'classifier__penalty': 'l2'}"
            ]
          },
          "metadata": {},
          "execution_count": 52
        }
      ],
      "source": [
        "best_model.best_params_"
      ]
    },
    {
      "cell_type": "code",
      "source": [
        "pipe = Pipeline([('classifier', LogisticRegression())])\n",
        "\n",
        "search_space = [{'classifier': [LogisticRegression()],\n",
        "                 'classifier__penalty': ['l1', 'l2'],\n",
        "                 'classifier__C': np.logspace(0, 4, 10)},\n",
        "                {'classifier': [DecisionTreeClassifier()],\n",
        "                 'classifier__min_impurity_decrease': [0.01, 0.02, 0.03, 0.05],\n",
        "                 'classifier__max_depth': [2, 5, 10],\n",
        "                 'classifier__min_samples_split': [0.1, 0.2, 0.05]},\n",
        "                {'classifier': [KNeighborsClassifier()],\n",
        "                 'classifier__n_neighbors': range(1, 20, 2)},\n",
        "                {'classifier': [SVC()],\n",
        "                 'classifier__kernel': ['rbf', 'linear'],\n",
        "                 'classifier__gamma': [0.1, 1.0]}]\n",
        "\n",
        "best_model = GridSearchCV(pipe, search_space, scoring = 'recall', cv=2, verbose=0).fit(X, y)"
      ],
      "metadata": {
        "id": "GYReO4SMGW5V"
      },
      "execution_count": 82,
      "outputs": []
    },
    {
      "cell_type": "code",
      "source": [
        "best_model.best_params_"
      ],
      "metadata": {
        "colab": {
          "base_uri": "https://localhost:8080/"
        },
        "id": "BhpifgrZGZFZ",
        "outputId": "5ada1be6-e9d3-417d-d529-8283064d1b5b"
      },
      "execution_count": 83,
      "outputs": [
        {
          "output_type": "execute_result",
          "data": {
            "text/plain": [
              "{'classifier': DecisionTreeClassifier(max_depth=2, min_impurity_decrease=0.01,\n",
              "                        min_samples_split=0.1),\n",
              " 'classifier__max_depth': 2,\n",
              " 'classifier__min_impurity_decrease': 0.01,\n",
              " 'classifier__min_samples_split': 0.1}"
            ]
          },
          "metadata": {},
          "execution_count": 83
        }
      ]
    },
    {
      "cell_type": "markdown",
      "metadata": {
        "id": "247G5cjOXvOY"
      },
      "source": [
        "##### Questions"
      ]
    }
  ],
  "metadata": {
    "kernelspec": {
      "display_name": "Python 3 (ipykernel)",
      "language": "python",
      "name": "python3"
    },
    "language_info": {
      "codemirror_mode": {
        "name": "ipython",
        "version": 3
      },
      "file_extension": ".py",
      "mimetype": "text/x-python",
      "name": "python",
      "nbconvert_exporter": "python",
      "pygments_lexer": "ipython3",
      "version": "3.9.7"
    },
    "colab": {
      "name": "Copy of prompt_III.ipynb",
      "provenance": []
    }
  },
  "nbformat": 4,
  "nbformat_minor": 0
}